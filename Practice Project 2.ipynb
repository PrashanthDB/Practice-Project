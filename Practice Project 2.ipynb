{
 "cells": [
  {
   "cell_type": "markdown",
   "id": "6a19e616",
   "metadata": {},
   "source": [
    "# Practice Project 2"
   ]
  },
  {
   "cell_type": "raw",
   "id": "42b6200d",
   "metadata": {},
   "source": [
    "World Happiness Report\n",
    "Problem Statement:\n",
    "Context\n",
    "\n",
    "The World Happiness Report is a landmark survey of the state of global happiness. The first report was published in 2012, the second in 2013, the third in 2015, and the fourth in the 2016 Update. The World Happiness 2017, which ranks 155 countries by their happiness levels, was released at the United Nations at an event celebrating International Day of Happiness on March 20th. The report continues to gain global recognition as governments, organizations and civil society increasingly use happiness indicators to inform their policy-making decisions. Leading experts across fields – economics, psychology, survey analysis, national statistics, health, public policy and more – describe how measurements of well-being can be used effectively to assess the progress of nations. The reports review the state of happiness in the world today and show how the new science of happiness explains personal and national variations in happiness."
   ]
  },
  {
   "cell_type": "code",
   "execution_count": 52,
   "id": "191d7a02",
   "metadata": {},
   "outputs": [],
   "source": [
    "import pandas as pd\n",
    "import numpy as np\n",
    "import seaborn as sns\n",
    "import matplotlib.pyplot as plt\n",
    "from sklearn.preprocessing import MinMaxScaler\n",
    "mms=MinMaxScaler()\n",
    "from sklearn.linear_model import LinearRegression\n",
    "lr=LinearRegression()\n",
    "from sklearn.model_selection import train_test_split\n",
    "from sklearn.metrics import r2_score"
   ]
  },
  {
   "cell_type": "code",
   "execution_count": 53,
   "id": "704f507c",
   "metadata": {},
   "outputs": [],
   "source": [
    "data= pd.read_csv('https://raw.githubusercontent.com/dsrscientist/DSData/master/happiness_score_dataset.csv')"
   ]
  },
  {
   "cell_type": "code",
   "execution_count": 19,
   "id": "c8e5f668",
   "metadata": {},
   "outputs": [
    {
     "data": {
      "text/html": [
       "<div>\n",
       "<style scoped>\n",
       "    .dataframe tbody tr th:only-of-type {\n",
       "        vertical-align: middle;\n",
       "    }\n",
       "\n",
       "    .dataframe tbody tr th {\n",
       "        vertical-align: top;\n",
       "    }\n",
       "\n",
       "    .dataframe thead th {\n",
       "        text-align: right;\n",
       "    }\n",
       "</style>\n",
       "<table border=\"1\" class=\"dataframe\">\n",
       "  <thead>\n",
       "    <tr style=\"text-align: right;\">\n",
       "      <th></th>\n",
       "      <th>Country</th>\n",
       "      <th>Region</th>\n",
       "      <th>Happiness Rank</th>\n",
       "      <th>Happiness Score</th>\n",
       "      <th>Standard Error</th>\n",
       "      <th>Economy (GDP per Capita)</th>\n",
       "      <th>Family</th>\n",
       "      <th>Health (Life Expectancy)</th>\n",
       "      <th>Freedom</th>\n",
       "      <th>Trust (Government Corruption)</th>\n",
       "      <th>Generosity</th>\n",
       "      <th>Dystopia Residual</th>\n",
       "    </tr>\n",
       "  </thead>\n",
       "  <tbody>\n",
       "    <tr>\n",
       "      <th>0</th>\n",
       "      <td>Switzerland</td>\n",
       "      <td>Western Europe</td>\n",
       "      <td>1</td>\n",
       "      <td>7.587</td>\n",
       "      <td>0.03411</td>\n",
       "      <td>1.39651</td>\n",
       "      <td>1.34951</td>\n",
       "      <td>0.94143</td>\n",
       "      <td>0.66557</td>\n",
       "      <td>0.41978</td>\n",
       "      <td>0.29678</td>\n",
       "      <td>2.51738</td>\n",
       "    </tr>\n",
       "    <tr>\n",
       "      <th>1</th>\n",
       "      <td>Iceland</td>\n",
       "      <td>Western Europe</td>\n",
       "      <td>2</td>\n",
       "      <td>7.561</td>\n",
       "      <td>0.04884</td>\n",
       "      <td>1.30232</td>\n",
       "      <td>1.40223</td>\n",
       "      <td>0.94784</td>\n",
       "      <td>0.62877</td>\n",
       "      <td>0.14145</td>\n",
       "      <td>0.43630</td>\n",
       "      <td>2.70201</td>\n",
       "    </tr>\n",
       "    <tr>\n",
       "      <th>2</th>\n",
       "      <td>Denmark</td>\n",
       "      <td>Western Europe</td>\n",
       "      <td>3</td>\n",
       "      <td>7.527</td>\n",
       "      <td>0.03328</td>\n",
       "      <td>1.32548</td>\n",
       "      <td>1.36058</td>\n",
       "      <td>0.87464</td>\n",
       "      <td>0.64938</td>\n",
       "      <td>0.48357</td>\n",
       "      <td>0.34139</td>\n",
       "      <td>2.49204</td>\n",
       "    </tr>\n",
       "    <tr>\n",
       "      <th>3</th>\n",
       "      <td>Norway</td>\n",
       "      <td>Western Europe</td>\n",
       "      <td>4</td>\n",
       "      <td>7.522</td>\n",
       "      <td>0.03880</td>\n",
       "      <td>1.45900</td>\n",
       "      <td>1.33095</td>\n",
       "      <td>0.88521</td>\n",
       "      <td>0.66973</td>\n",
       "      <td>0.36503</td>\n",
       "      <td>0.34699</td>\n",
       "      <td>2.46531</td>\n",
       "    </tr>\n",
       "    <tr>\n",
       "      <th>4</th>\n",
       "      <td>Canada</td>\n",
       "      <td>North America</td>\n",
       "      <td>5</td>\n",
       "      <td>7.427</td>\n",
       "      <td>0.03553</td>\n",
       "      <td>1.32629</td>\n",
       "      <td>1.32261</td>\n",
       "      <td>0.90563</td>\n",
       "      <td>0.63297</td>\n",
       "      <td>0.32957</td>\n",
       "      <td>0.45811</td>\n",
       "      <td>2.45176</td>\n",
       "    </tr>\n",
       "  </tbody>\n",
       "</table>\n",
       "</div>"
      ],
      "text/plain": [
       "       Country          Region  Happiness Rank  Happiness Score  \\\n",
       "0  Switzerland  Western Europe               1            7.587   \n",
       "1      Iceland  Western Europe               2            7.561   \n",
       "2      Denmark  Western Europe               3            7.527   \n",
       "3       Norway  Western Europe               4            7.522   \n",
       "4       Canada   North America               5            7.427   \n",
       "\n",
       "   Standard Error  Economy (GDP per Capita)   Family  \\\n",
       "0         0.03411                   1.39651  1.34951   \n",
       "1         0.04884                   1.30232  1.40223   \n",
       "2         0.03328                   1.32548  1.36058   \n",
       "3         0.03880                   1.45900  1.33095   \n",
       "4         0.03553                   1.32629  1.32261   \n",
       "\n",
       "   Health (Life Expectancy)  Freedom  Trust (Government Corruption)  \\\n",
       "0                   0.94143  0.66557                        0.41978   \n",
       "1                   0.94784  0.62877                        0.14145   \n",
       "2                   0.87464  0.64938                        0.48357   \n",
       "3                   0.88521  0.66973                        0.36503   \n",
       "4                   0.90563  0.63297                        0.32957   \n",
       "\n",
       "   Generosity  Dystopia Residual  \n",
       "0     0.29678            2.51738  \n",
       "1     0.43630            2.70201  \n",
       "2     0.34139            2.49204  \n",
       "3     0.34699            2.46531  \n",
       "4     0.45811            2.45176  "
      ]
     },
     "execution_count": 19,
     "metadata": {},
     "output_type": "execute_result"
    }
   ],
   "source": [
    "data.head()"
   ]
  },
  {
   "cell_type": "code",
   "execution_count": 20,
   "id": "77c66584",
   "metadata": {},
   "outputs": [
    {
     "data": {
      "text/plain": [
       "Index(['Country', 'Region', 'Happiness Rank', 'Happiness Score',\n",
       "       'Standard Error', 'Economy (GDP per Capita)', 'Family',\n",
       "       'Health (Life Expectancy)', 'Freedom', 'Trust (Government Corruption)',\n",
       "       'Generosity', 'Dystopia Residual'],\n",
       "      dtype='object')"
      ]
     },
     "execution_count": 20,
     "metadata": {},
     "output_type": "execute_result"
    }
   ],
   "source": [
    "data.columns"
   ]
  },
  {
   "cell_type": "code",
   "execution_count": 8,
   "id": "26529f11",
   "metadata": {},
   "outputs": [
    {
     "data": {
      "text/plain": [
       "(158, 12)"
      ]
     },
     "execution_count": 8,
     "metadata": {},
     "output_type": "execute_result"
    }
   ],
   "source": [
    "data.shape"
   ]
  },
  {
   "cell_type": "raw",
   "id": "9cdf8000",
   "metadata": {},
   "source": [
    "## we have 158 rows and 12 columns"
   ]
  },
  {
   "cell_type": "raw",
   "id": "6a832493",
   "metadata": {},
   "source": [
    "## here in this data Country, Region and Happiness Rank is not having a usefull information.Hence droping those 3 columns"
   ]
  },
  {
   "cell_type": "code",
   "execution_count": 21,
   "id": "c7638b9b",
   "metadata": {},
   "outputs": [
    {
     "data": {
      "text/html": [
       "<div>\n",
       "<style scoped>\n",
       "    .dataframe tbody tr th:only-of-type {\n",
       "        vertical-align: middle;\n",
       "    }\n",
       "\n",
       "    .dataframe tbody tr th {\n",
       "        vertical-align: top;\n",
       "    }\n",
       "\n",
       "    .dataframe thead th {\n",
       "        text-align: right;\n",
       "    }\n",
       "</style>\n",
       "<table border=\"1\" class=\"dataframe\">\n",
       "  <thead>\n",
       "    <tr style=\"text-align: right;\">\n",
       "      <th></th>\n",
       "      <th>Happiness Score</th>\n",
       "      <th>Standard Error</th>\n",
       "      <th>Economy (GDP per Capita)</th>\n",
       "      <th>Family</th>\n",
       "      <th>Health (Life Expectancy)</th>\n",
       "      <th>Freedom</th>\n",
       "      <th>Trust (Government Corruption)</th>\n",
       "      <th>Generosity</th>\n",
       "      <th>Dystopia Residual</th>\n",
       "    </tr>\n",
       "  </thead>\n",
       "  <tbody>\n",
       "    <tr>\n",
       "      <th>0</th>\n",
       "      <td>7.587</td>\n",
       "      <td>0.03411</td>\n",
       "      <td>1.39651</td>\n",
       "      <td>1.34951</td>\n",
       "      <td>0.94143</td>\n",
       "      <td>0.66557</td>\n",
       "      <td>0.41978</td>\n",
       "      <td>0.29678</td>\n",
       "      <td>2.51738</td>\n",
       "    </tr>\n",
       "    <tr>\n",
       "      <th>1</th>\n",
       "      <td>7.561</td>\n",
       "      <td>0.04884</td>\n",
       "      <td>1.30232</td>\n",
       "      <td>1.40223</td>\n",
       "      <td>0.94784</td>\n",
       "      <td>0.62877</td>\n",
       "      <td>0.14145</td>\n",
       "      <td>0.43630</td>\n",
       "      <td>2.70201</td>\n",
       "    </tr>\n",
       "    <tr>\n",
       "      <th>2</th>\n",
       "      <td>7.527</td>\n",
       "      <td>0.03328</td>\n",
       "      <td>1.32548</td>\n",
       "      <td>1.36058</td>\n",
       "      <td>0.87464</td>\n",
       "      <td>0.64938</td>\n",
       "      <td>0.48357</td>\n",
       "      <td>0.34139</td>\n",
       "      <td>2.49204</td>\n",
       "    </tr>\n",
       "    <tr>\n",
       "      <th>3</th>\n",
       "      <td>7.522</td>\n",
       "      <td>0.03880</td>\n",
       "      <td>1.45900</td>\n",
       "      <td>1.33095</td>\n",
       "      <td>0.88521</td>\n",
       "      <td>0.66973</td>\n",
       "      <td>0.36503</td>\n",
       "      <td>0.34699</td>\n",
       "      <td>2.46531</td>\n",
       "    </tr>\n",
       "    <tr>\n",
       "      <th>4</th>\n",
       "      <td>7.427</td>\n",
       "      <td>0.03553</td>\n",
       "      <td>1.32629</td>\n",
       "      <td>1.32261</td>\n",
       "      <td>0.90563</td>\n",
       "      <td>0.63297</td>\n",
       "      <td>0.32957</td>\n",
       "      <td>0.45811</td>\n",
       "      <td>2.45176</td>\n",
       "    </tr>\n",
       "  </tbody>\n",
       "</table>\n",
       "</div>"
      ],
      "text/plain": [
       "   Happiness Score  Standard Error  Economy (GDP per Capita)   Family  \\\n",
       "0            7.587         0.03411                   1.39651  1.34951   \n",
       "1            7.561         0.04884                   1.30232  1.40223   \n",
       "2            7.527         0.03328                   1.32548  1.36058   \n",
       "3            7.522         0.03880                   1.45900  1.33095   \n",
       "4            7.427         0.03553                   1.32629  1.32261   \n",
       "\n",
       "   Health (Life Expectancy)  Freedom  Trust (Government Corruption)  \\\n",
       "0                   0.94143  0.66557                        0.41978   \n",
       "1                   0.94784  0.62877                        0.14145   \n",
       "2                   0.87464  0.64938                        0.48357   \n",
       "3                   0.88521  0.66973                        0.36503   \n",
       "4                   0.90563  0.63297                        0.32957   \n",
       "\n",
       "   Generosity  Dystopia Residual  \n",
       "0     0.29678            2.51738  \n",
       "1     0.43630            2.70201  \n",
       "2     0.34139            2.49204  \n",
       "3     0.34699            2.46531  \n",
       "4     0.45811            2.45176  "
      ]
     },
     "execution_count": 21,
     "metadata": {},
     "output_type": "execute_result"
    }
   ],
   "source": [
    "data.drop(['Country', 'Region', 'Happiness Rank'],axis=1,inplace=True)\n",
    "data.head()          "
   ]
  },
  {
   "cell_type": "raw",
   "id": "506b8caa",
   "metadata": {},
   "source": [
    "##we don't have a null vaules "
   ]
  },
  {
   "cell_type": "code",
   "execution_count": 23,
   "id": "1a35c974",
   "metadata": {},
   "outputs": [
    {
     "data": {
      "text/plain": [
       "Happiness Score                  0\n",
       "Standard Error                   0\n",
       "Economy (GDP per Capita)         0\n",
       "Family                           0\n",
       "Health (Life Expectancy)         0\n",
       "Freedom                          0\n",
       "Trust (Government Corruption)    0\n",
       "Generosity                       0\n",
       "Dystopia Residual                0\n",
       "dtype: int64"
      ]
     },
     "execution_count": 23,
     "metadata": {},
     "output_type": "execute_result"
    }
   ],
   "source": [
    "data.isnull().sum()"
   ]
  },
  {
   "cell_type": "code",
   "execution_count": 24,
   "id": "d8109878",
   "metadata": {},
   "outputs": [
    {
     "data": {
      "text/plain": [
       "Happiness Score                  float64\n",
       "Standard Error                   float64\n",
       "Economy (GDP per Capita)         float64\n",
       "Family                           float64\n",
       "Health (Life Expectancy)         float64\n",
       "Freedom                          float64\n",
       "Trust (Government Corruption)    float64\n",
       "Generosity                       float64\n",
       "Dystopia Residual                float64\n",
       "dtype: object"
      ]
     },
     "execution_count": 24,
     "metadata": {},
     "output_type": "execute_result"
    }
   ],
   "source": [
    "data.dtypes"
   ]
  },
  {
   "cell_type": "raw",
   "id": "d0b337aa",
   "metadata": {},
   "source": [
    "## Target variable Happiness Rank is continuos data, hence we need to work as regression problem "
   ]
  },
  {
   "cell_type": "code",
   "execution_count": 25,
   "id": "81295105",
   "metadata": {},
   "outputs": [
    {
     "data": {
      "text/html": [
       "<div>\n",
       "<style scoped>\n",
       "    .dataframe tbody tr th:only-of-type {\n",
       "        vertical-align: middle;\n",
       "    }\n",
       "\n",
       "    .dataframe tbody tr th {\n",
       "        vertical-align: top;\n",
       "    }\n",
       "\n",
       "    .dataframe thead th {\n",
       "        text-align: right;\n",
       "    }\n",
       "</style>\n",
       "<table border=\"1\" class=\"dataframe\">\n",
       "  <thead>\n",
       "    <tr style=\"text-align: right;\">\n",
       "      <th></th>\n",
       "      <th>Happiness Score</th>\n",
       "      <th>Standard Error</th>\n",
       "      <th>Economy (GDP per Capita)</th>\n",
       "      <th>Family</th>\n",
       "      <th>Health (Life Expectancy)</th>\n",
       "      <th>Freedom</th>\n",
       "      <th>Trust (Government Corruption)</th>\n",
       "      <th>Generosity</th>\n",
       "      <th>Dystopia Residual</th>\n",
       "    </tr>\n",
       "  </thead>\n",
       "  <tbody>\n",
       "    <tr>\n",
       "      <th>count</th>\n",
       "      <td>158.000000</td>\n",
       "      <td>158.000000</td>\n",
       "      <td>158.000000</td>\n",
       "      <td>158.000000</td>\n",
       "      <td>158.000000</td>\n",
       "      <td>158.000000</td>\n",
       "      <td>158.000000</td>\n",
       "      <td>158.000000</td>\n",
       "      <td>158.000000</td>\n",
       "    </tr>\n",
       "    <tr>\n",
       "      <th>mean</th>\n",
       "      <td>5.375734</td>\n",
       "      <td>0.047885</td>\n",
       "      <td>0.846137</td>\n",
       "      <td>0.991046</td>\n",
       "      <td>0.630259</td>\n",
       "      <td>0.428615</td>\n",
       "      <td>0.143422</td>\n",
       "      <td>0.237296</td>\n",
       "      <td>2.098977</td>\n",
       "    </tr>\n",
       "    <tr>\n",
       "      <th>std</th>\n",
       "      <td>1.145010</td>\n",
       "      <td>0.017146</td>\n",
       "      <td>0.403121</td>\n",
       "      <td>0.272369</td>\n",
       "      <td>0.247078</td>\n",
       "      <td>0.150693</td>\n",
       "      <td>0.120034</td>\n",
       "      <td>0.126685</td>\n",
       "      <td>0.553550</td>\n",
       "    </tr>\n",
       "    <tr>\n",
       "      <th>min</th>\n",
       "      <td>2.839000</td>\n",
       "      <td>0.018480</td>\n",
       "      <td>0.000000</td>\n",
       "      <td>0.000000</td>\n",
       "      <td>0.000000</td>\n",
       "      <td>0.000000</td>\n",
       "      <td>0.000000</td>\n",
       "      <td>0.000000</td>\n",
       "      <td>0.328580</td>\n",
       "    </tr>\n",
       "    <tr>\n",
       "      <th>25%</th>\n",
       "      <td>4.526000</td>\n",
       "      <td>0.037268</td>\n",
       "      <td>0.545808</td>\n",
       "      <td>0.856823</td>\n",
       "      <td>0.439185</td>\n",
       "      <td>0.328330</td>\n",
       "      <td>0.061675</td>\n",
       "      <td>0.150553</td>\n",
       "      <td>1.759410</td>\n",
       "    </tr>\n",
       "    <tr>\n",
       "      <th>50%</th>\n",
       "      <td>5.232500</td>\n",
       "      <td>0.043940</td>\n",
       "      <td>0.910245</td>\n",
       "      <td>1.029510</td>\n",
       "      <td>0.696705</td>\n",
       "      <td>0.435515</td>\n",
       "      <td>0.107220</td>\n",
       "      <td>0.216130</td>\n",
       "      <td>2.095415</td>\n",
       "    </tr>\n",
       "    <tr>\n",
       "      <th>75%</th>\n",
       "      <td>6.243750</td>\n",
       "      <td>0.052300</td>\n",
       "      <td>1.158448</td>\n",
       "      <td>1.214405</td>\n",
       "      <td>0.811013</td>\n",
       "      <td>0.549092</td>\n",
       "      <td>0.180255</td>\n",
       "      <td>0.309883</td>\n",
       "      <td>2.462415</td>\n",
       "    </tr>\n",
       "    <tr>\n",
       "      <th>max</th>\n",
       "      <td>7.587000</td>\n",
       "      <td>0.136930</td>\n",
       "      <td>1.690420</td>\n",
       "      <td>1.402230</td>\n",
       "      <td>1.025250</td>\n",
       "      <td>0.669730</td>\n",
       "      <td>0.551910</td>\n",
       "      <td>0.795880</td>\n",
       "      <td>3.602140</td>\n",
       "    </tr>\n",
       "  </tbody>\n",
       "</table>\n",
       "</div>"
      ],
      "text/plain": [
       "       Happiness Score  Standard Error  Economy (GDP per Capita)      Family  \\\n",
       "count       158.000000      158.000000                158.000000  158.000000   \n",
       "mean          5.375734        0.047885                  0.846137    0.991046   \n",
       "std           1.145010        0.017146                  0.403121    0.272369   \n",
       "min           2.839000        0.018480                  0.000000    0.000000   \n",
       "25%           4.526000        0.037268                  0.545808    0.856823   \n",
       "50%           5.232500        0.043940                  0.910245    1.029510   \n",
       "75%           6.243750        0.052300                  1.158448    1.214405   \n",
       "max           7.587000        0.136930                  1.690420    1.402230   \n",
       "\n",
       "       Health (Life Expectancy)     Freedom  Trust (Government Corruption)  \\\n",
       "count                158.000000  158.000000                     158.000000   \n",
       "mean                   0.630259    0.428615                       0.143422   \n",
       "std                    0.247078    0.150693                       0.120034   \n",
       "min                    0.000000    0.000000                       0.000000   \n",
       "25%                    0.439185    0.328330                       0.061675   \n",
       "50%                    0.696705    0.435515                       0.107220   \n",
       "75%                    0.811013    0.549092                       0.180255   \n",
       "max                    1.025250    0.669730                       0.551910   \n",
       "\n",
       "       Generosity  Dystopia Residual  \n",
       "count  158.000000         158.000000  \n",
       "mean     0.237296           2.098977  \n",
       "std      0.126685           0.553550  \n",
       "min      0.000000           0.328580  \n",
       "25%      0.150553           1.759410  \n",
       "50%      0.216130           2.095415  \n",
       "75%      0.309883           2.462415  \n",
       "max      0.795880           3.602140  "
      ]
     },
     "execution_count": 25,
     "metadata": {},
     "output_type": "execute_result"
    }
   ],
   "source": [
    "data.describe()"
   ]
  },
  {
   "cell_type": "raw",
   "id": "6e66fcef",
   "metadata": {},
   "source": [
    "## Checking correlation by using the heat map"
   ]
  },
  {
   "cell_type": "code",
   "execution_count": 27,
   "id": "d102538e",
   "metadata": {},
   "outputs": [
    {
     "data": {
      "text/plain": [
       "<function matplotlib.pyplot.show(close=None, block=None)>"
      ]
     },
     "execution_count": 27,
     "metadata": {},
     "output_type": "execute_result"
    },
    {
     "data": {
      "image/png": "[encoded data removed]",
      "text/plain": [
       "<Figure size 1584x504 with 2 Axes>"
      ]
     },
     "metadata": {
      "needs_background": "light"
     },
     "output_type": "display_data"
    }
   ],
   "source": [
    "plt.figure(figsize=(22,7))\n",
    "sns.heatmap(data.corr(),annot=True,linewidth=0.1,linecolor='black', fmt='0.2f')\n",
    "plt.show"
   ]
  },
  {
   "cell_type": "code",
   "execution_count": 30,
   "id": "92dfd293",
   "metadata": {},
   "outputs": [
    {
     "data": {
      "text/html": [
       "<div>\n",
       "<style scoped>\n",
       "    .dataframe tbody tr th:only-of-type {\n",
       "        vertical-align: middle;\n",
       "    }\n",
       "\n",
       "    .dataframe tbody tr th {\n",
       "        vertical-align: top;\n",
       "    }\n",
       "\n",
       "    .dataframe thead th {\n",
       "        text-align: right;\n",
       "    }\n",
       "</style>\n",
       "<table border=\"1\" class=\"dataframe\">\n",
       "  <thead>\n",
       "    <tr style=\"text-align: right;\">\n",
       "      <th></th>\n",
       "      <th>Happiness Rank</th>\n",
       "      <th>Happiness Score</th>\n",
       "      <th>Standard Error</th>\n",
       "      <th>Economy (GDP per Capita)</th>\n",
       "      <th>Family</th>\n",
       "      <th>Health (Life Expectancy)</th>\n",
       "      <th>Freedom</th>\n",
       "      <th>Trust (Government Corruption)</th>\n",
       "      <th>Generosity</th>\n",
       "      <th>Dystopia Residual</th>\n",
       "    </tr>\n",
       "  </thead>\n",
       "  <tbody>\n",
       "    <tr>\n",
       "      <th>Happiness Rank</th>\n",
       "      <td>1.000000</td>\n",
       "      <td>-0.992105</td>\n",
       "      <td>0.158516</td>\n",
       "      <td>-0.785267</td>\n",
       "      <td>-0.733644</td>\n",
       "      <td>-0.735613</td>\n",
       "      <td>-0.556886</td>\n",
       "      <td>-0.372315</td>\n",
       "      <td>-0.160142</td>\n",
       "      <td>-0.521999</td>\n",
       "    </tr>\n",
       "    <tr>\n",
       "      <th>Happiness Score</th>\n",
       "      <td>-0.992105</td>\n",
       "      <td>1.000000</td>\n",
       "      <td>-0.177254</td>\n",
       "      <td>0.780966</td>\n",
       "      <td>0.740605</td>\n",
       "      <td>0.724200</td>\n",
       "      <td>0.568211</td>\n",
       "      <td>0.395199</td>\n",
       "      <td>0.180319</td>\n",
       "      <td>0.530474</td>\n",
       "    </tr>\n",
       "    <tr>\n",
       "      <th>Standard Error</th>\n",
       "      <td>0.158516</td>\n",
       "      <td>-0.177254</td>\n",
       "      <td>1.000000</td>\n",
       "      <td>-0.217651</td>\n",
       "      <td>-0.120728</td>\n",
       "      <td>-0.310287</td>\n",
       "      <td>-0.129773</td>\n",
       "      <td>-0.178325</td>\n",
       "      <td>-0.088439</td>\n",
       "      <td>0.083981</td>\n",
       "    </tr>\n",
       "    <tr>\n",
       "      <th>Economy (GDP per Capita)</th>\n",
       "      <td>-0.785267</td>\n",
       "      <td>0.780966</td>\n",
       "      <td>-0.217651</td>\n",
       "      <td>1.000000</td>\n",
       "      <td>0.645299</td>\n",
       "      <td>0.816478</td>\n",
       "      <td>0.370300</td>\n",
       "      <td>0.307885</td>\n",
       "      <td>-0.010465</td>\n",
       "      <td>0.040059</td>\n",
       "    </tr>\n",
       "    <tr>\n",
       "      <th>Family</th>\n",
       "      <td>-0.733644</td>\n",
       "      <td>0.740605</td>\n",
       "      <td>-0.120728</td>\n",
       "      <td>0.645299</td>\n",
       "      <td>1.000000</td>\n",
       "      <td>0.531104</td>\n",
       "      <td>0.441518</td>\n",
       "      <td>0.205605</td>\n",
       "      <td>0.087513</td>\n",
       "      <td>0.148117</td>\n",
       "    </tr>\n",
       "    <tr>\n",
       "      <th>Health (Life Expectancy)</th>\n",
       "      <td>-0.735613</td>\n",
       "      <td>0.724200</td>\n",
       "      <td>-0.310287</td>\n",
       "      <td>0.816478</td>\n",
       "      <td>0.531104</td>\n",
       "      <td>1.000000</td>\n",
       "      <td>0.360477</td>\n",
       "      <td>0.248335</td>\n",
       "      <td>0.108335</td>\n",
       "      <td>0.018979</td>\n",
       "    </tr>\n",
       "    <tr>\n",
       "      <th>Freedom</th>\n",
       "      <td>-0.556886</td>\n",
       "      <td>0.568211</td>\n",
       "      <td>-0.129773</td>\n",
       "      <td>0.370300</td>\n",
       "      <td>0.441518</td>\n",
       "      <td>0.360477</td>\n",
       "      <td>1.000000</td>\n",
       "      <td>0.493524</td>\n",
       "      <td>0.373916</td>\n",
       "      <td>0.062783</td>\n",
       "    </tr>\n",
       "    <tr>\n",
       "      <th>Trust (Government Corruption)</th>\n",
       "      <td>-0.372315</td>\n",
       "      <td>0.395199</td>\n",
       "      <td>-0.178325</td>\n",
       "      <td>0.307885</td>\n",
       "      <td>0.205605</td>\n",
       "      <td>0.248335</td>\n",
       "      <td>0.493524</td>\n",
       "      <td>1.000000</td>\n",
       "      <td>0.276123</td>\n",
       "      <td>-0.033105</td>\n",
       "    </tr>\n",
       "    <tr>\n",
       "      <th>Generosity</th>\n",
       "      <td>-0.160142</td>\n",
       "      <td>0.180319</td>\n",
       "      <td>-0.088439</td>\n",
       "      <td>-0.010465</td>\n",
       "      <td>0.087513</td>\n",
       "      <td>0.108335</td>\n",
       "      <td>0.373916</td>\n",
       "      <td>0.276123</td>\n",
       "      <td>1.000000</td>\n",
       "      <td>-0.101301</td>\n",
       "    </tr>\n",
       "    <tr>\n",
       "      <th>Dystopia Residual</th>\n",
       "      <td>-0.521999</td>\n",
       "      <td>0.530474</td>\n",
       "      <td>0.083981</td>\n",
       "      <td>0.040059</td>\n",
       "      <td>0.148117</td>\n",
       "      <td>0.018979</td>\n",
       "      <td>0.062783</td>\n",
       "      <td>-0.033105</td>\n",
       "      <td>-0.101301</td>\n",
       "      <td>1.000000</td>\n",
       "    </tr>\n",
       "  </tbody>\n",
       "</table>\n",
       "</div>"
      ],
      "text/plain": [
       "                               Happiness Rank  Happiness Score  \\\n",
       "Happiness Rank                       1.000000        -0.992105   \n",
       "Happiness Score                     -0.992105         1.000000   \n",
       "Standard Error                       0.158516        -0.177254   \n",
       "Economy (GDP per Capita)            -0.785267         0.780966   \n",
       "Family                              -0.733644         0.740605   \n",
       "Health (Life Expectancy)            -0.735613         0.724200   \n",
       "Freedom                             -0.556886         0.568211   \n",
       "Trust (Government Corruption)       -0.372315         0.395199   \n",
       "Generosity                          -0.160142         0.180319   \n",
       "Dystopia Residual                   -0.521999         0.530474   \n",
       "\n",
       "                               Standard Error  Economy (GDP per Capita)  \\\n",
       "Happiness Rank                       0.158516                 -0.785267   \n",
       "Happiness Score                     -0.177254                  0.780966   \n",
       "Standard Error                       1.000000                 -0.217651   \n",
       "Economy (GDP per Capita)            -0.217651                  1.000000   \n",
       "Family                              -0.120728                  0.645299   \n",
       "Health (Life Expectancy)            -0.310287                  0.816478   \n",
       "Freedom                             -0.129773                  0.370300   \n",
       "Trust (Government Corruption)       -0.178325                  0.307885   \n",
       "Generosity                          -0.088439                 -0.010465   \n",
       "Dystopia Residual                    0.083981                  0.040059   \n",
       "\n",
       "                                 Family  Health (Life Expectancy)   Freedom  \\\n",
       "Happiness Rank                -0.733644                 -0.735613 -0.556886   \n",
       "Happiness Score                0.740605                  0.724200  0.568211   \n",
       "Standard Error                -0.120728                 -0.310287 -0.129773   \n",
       "Economy (GDP per Capita)       0.645299                  0.816478  0.370300   \n",
       "Family                         1.000000                  0.531104  0.441518   \n",
       "Health (Life Expectancy)       0.531104                  1.000000  0.360477   \n",
       "Freedom                        0.441518                  0.360477  1.000000   \n",
       "Trust (Government Corruption)  0.205605                  0.248335  0.493524   \n",
       "Generosity                     0.087513                  0.108335  0.373916   \n",
       "Dystopia Residual              0.148117                  0.018979  0.062783   \n",
       "\n",
       "                               Trust (Government Corruption)  Generosity  \\\n",
       "Happiness Rank                                     -0.372315   -0.160142   \n",
       "Happiness Score                                     0.395199    0.180319   \n",
       "Standard Error                                     -0.178325   -0.088439   \n",
       "Economy (GDP per Capita)                            0.307885   -0.010465   \n",
       "Family                                              0.205605    0.087513   \n",
       "Health (Life Expectancy)                            0.248335    0.108335   \n",
       "Freedom                                             0.493524    0.373916   \n",
       "Trust (Government Corruption)                       1.000000    0.276123   \n",
       "Generosity                                          0.276123    1.000000   \n",
       "Dystopia Residual                                  -0.033105   -0.101301   \n",
       "\n",
       "                               Dystopia Residual  \n",
       "Happiness Rank                         -0.521999  \n",
       "Happiness Score                         0.530474  \n",
       "Standard Error                          0.083981  \n",
       "Economy (GDP per Capita)                0.040059  \n",
       "Family                                  0.148117  \n",
       "Health (Life Expectancy)                0.018979  \n",
       "Freedom                                 0.062783  \n",
       "Trust (Government Corruption)          -0.033105  \n",
       "Generosity                             -0.101301  \n",
       "Dystopia Residual                       1.000000  "
      ]
     },
     "execution_count": 30,
     "metadata": {},
     "output_type": "execute_result"
    }
   ],
   "source": [
    "data.corr()"
   ]
  },
  {
   "cell_type": "raw",
   "id": "2774b7c6",
   "metadata": {},
   "source": [
    "##GDP is have corr of 78%, Family is having corr of 74%, Health is having 72%"
   ]
  },
  {
   "cell_type": "raw",
   "id": "d2e59d9c",
   "metadata": {},
   "source": [
    "##Separating the column into feature and target "
   ]
  },
  {
   "cell_type": "code",
   "execution_count": 28,
   "id": "002c135e",
   "metadata": {},
   "outputs": [],
   "source": [
    "y=data['Happiness Score']\n",
    "x=data.drop('Happiness Score',axis=1)"
   ]
  },
  {
   "cell_type": "code",
   "execution_count": 60,
   "id": "988a5465",
   "metadata": {},
   "outputs": [],
   "source": [
    "from sklearn.metrics import accuracy_score, confusion_matrix, roc_curve, roc_auc_score, classification_report\n",
    "from sklearn.metrics import r2_score\n",
    "import warnings\n",
    "warnings.filterwarnings(\"ignore\")"
   ]
  },
  {
   "cell_type": "raw",
   "id": "c93cd7e5",
   "metadata": {},
   "source": [
    "Scaling methods\n",
    "##Difine a function to check the accuracy value"
   ]
  },
  {
   "cell_type": "code",
   "execution_count": 64,
   "id": "fab414f1",
   "metadata": {
    "scrolled": true
   },
   "outputs": [
    {
     "name": "stdout",
     "output_type": "stream",
     "text": [
      "at random_state0, the training accuracy is :-0.9999999515828992\n",
      "at random_state0, the testing accuracy is :-0.9999998979177837\n",
      "\n",
      "\n",
      "at random_state1, the training accuracy is :-0.9999999441411482\n",
      "at random_state1, the testing accuracy is :-0.9999999270958111\n",
      "\n",
      "\n",
      "at random_state2, the training accuracy is :-0.9999999404843422\n",
      "at random_state2, the testing accuracy is :-0.9999999372398809\n",
      "\n",
      "\n",
      "at random_state3, the training accuracy is :-0.9999999392743703\n",
      "at random_state3, the testing accuracy is :-0.9999999424354707\n",
      "\n",
      "\n",
      "at random_state4, the training accuracy is :-0.9999999322138544\n",
      "at random_state4, the testing accuracy is :-0.9999999522216209\n",
      "\n",
      "\n",
      "at random_state5, the training accuracy is :-0.9999999460499149\n",
      "at random_state5, the testing accuracy is :-0.9999999164625938\n",
      "\n",
      "\n",
      "at random_state6, the training accuracy is :-0.9999999421813434\n",
      "at random_state6, the testing accuracy is :-0.9999999345085112\n",
      "\n",
      "\n",
      "at random_state7, the training accuracy is :-0.9999999482316859\n",
      "at random_state7, the testing accuracy is :-0.9999999009273643\n",
      "\n",
      "\n",
      "at random_state8, the training accuracy is :-0.9999999368108974\n",
      "at random_state8, the testing accuracy is :-0.9999999514642482\n",
      "\n",
      "\n",
      "at random_state9, the training accuracy is :-0.9999999411361324\n",
      "at random_state9, the testing accuracy is :-0.9999999366681822\n",
      "\n",
      "\n",
      "at random_state10, the training accuracy is :-0.999999945187033\n",
      "at random_state10, the testing accuracy is :-0.9999999267961236\n",
      "\n",
      "\n",
      "at random_state11, the training accuracy is :-0.9999999398502546\n",
      "at random_state11, the testing accuracy is :-0.9999999458843777\n",
      "\n",
      "\n",
      "at random_state12, the training accuracy is :-0.9999999403169424\n",
      "at random_state12, the testing accuracy is :-0.9999999425575037\n",
      "\n",
      "\n",
      "at random_state13, the training accuracy is :-0.9999999404042131\n",
      "at random_state13, the testing accuracy is :-0.9999999413361095\n",
      "\n",
      "\n",
      "at random_state14, the training accuracy is :-0.9999999385348958\n",
      "at random_state14, the testing accuracy is :-0.9999999476325938\n",
      "\n",
      "\n",
      "at random_state15, the training accuracy is :-0.9999999455580659\n",
      "at random_state15, the testing accuracy is :-0.9999999249459839\n",
      "\n",
      "\n",
      "at random_state16, the training accuracy is :-0.9999999462271506\n",
      "at random_state16, the testing accuracy is :-0.9999999110228913\n",
      "\n",
      "\n",
      "at random_state17, the training accuracy is :-0.9999999448273337\n",
      "at random_state17, the testing accuracy is :-0.9999999301237319\n",
      "\n",
      "\n",
      "at random_state18, the training accuracy is :-0.9999999447368394\n",
      "at random_state18, the testing accuracy is :-0.9999999261541463\n",
      "\n",
      "\n",
      "at random_state19, the training accuracy is :-0.9999999450629183\n",
      "at random_state19, the testing accuracy is :-0.9999999312821077\n",
      "\n",
      "\n",
      "at random_state20, the training accuracy is :-0.9999999426171728\n",
      "at random_state20, the testing accuracy is :-0.9999999340769739\n",
      "\n",
      "\n",
      "at random_state21, the training accuracy is :-0.9999999434747582\n",
      "at random_state21, the testing accuracy is :-0.999999934483437\n",
      "\n",
      "\n",
      "at random_state22, the training accuracy is :-0.9999999398149548\n",
      "at random_state22, the testing accuracy is :-0.999999943518632\n",
      "\n",
      "\n",
      "at random_state23, the training accuracy is :-0.9999999464728462\n",
      "at random_state23, the testing accuracy is :-0.9999999134702319\n",
      "\n",
      "\n",
      "at random_state24, the training accuracy is :-0.9999999418372126\n",
      "at random_state24, the testing accuracy is :-0.9999999398841903\n",
      "\n",
      "\n",
      "at random_state25, the training accuracy is :-0.9999999524406682\n",
      "at random_state25, the testing accuracy is :-0.9999998741589043\n",
      "\n",
      "\n",
      "at random_state26, the training accuracy is :-0.9999999434659369\n",
      "at random_state26, the testing accuracy is :-0.9999999324069125\n",
      "\n",
      "\n",
      "at random_state27, the training accuracy is :-0.9999999425195042\n",
      "at random_state27, the testing accuracy is :-0.9999999347295686\n",
      "\n",
      "\n",
      "at random_state28, the training accuracy is :-0.9999999460553175\n",
      "at random_state28, the testing accuracy is :-0.9999999202287406\n",
      "\n",
      "\n",
      "at random_state29, the training accuracy is :-0.9999999430384973\n",
      "at random_state29, the testing accuracy is :-0.9999999311580762\n",
      "\n",
      "\n",
      "at random_state30, the training accuracy is :-0.9999999368463107\n",
      "at random_state30, the testing accuracy is :-0.9999999486597793\n",
      "\n",
      "\n",
      "at random_state31, the training accuracy is :-0.9999999444251816\n",
      "at random_state31, the testing accuracy is :-0.9999999281857842\n",
      "\n",
      "\n",
      "at random_state32, the training accuracy is :-0.9999999347636168\n",
      "at random_state32, the testing accuracy is :-0.9999999524852267\n",
      "\n",
      "\n",
      "at random_state33, the training accuracy is :-0.9999999315836973\n",
      "at random_state33, the testing accuracy is :-0.9999999571300127\n",
      "\n",
      "\n",
      "at random_state34, the training accuracy is :-0.9999999462961808\n",
      "at random_state34, the testing accuracy is :-0.9999999052037077\n",
      "\n",
      "\n",
      "at random_state35, the training accuracy is :-0.9999999451273424\n",
      "at random_state35, the testing accuracy is :-0.9999999281408535\n",
      "\n",
      "\n",
      "at random_state36, the training accuracy is :-0.999999940048524\n",
      "at random_state36, the testing accuracy is :-0.9999999442431352\n",
      "\n",
      "\n",
      "at random_state37, the training accuracy is :-0.9999999398790005\n",
      "at random_state37, the testing accuracy is :-0.9999999418776571\n",
      "\n",
      "\n",
      "at random_state38, the training accuracy is :-0.9999999509329066\n",
      "at random_state38, the testing accuracy is :-0.999999885122112\n",
      "\n",
      "\n",
      "at random_state39, the training accuracy is :-0.9999999414604642\n",
      "at random_state39, the testing accuracy is :-0.9999999402795586\n",
      "\n",
      "\n",
      "at random_state40, the training accuracy is :-0.9999999487982445\n",
      "at random_state40, the testing accuracy is :-0.9999999161407136\n",
      "\n",
      "\n",
      "at random_state41, the training accuracy is :-0.9999999403753375\n",
      "at random_state41, the testing accuracy is :-0.9999999411956596\n",
      "\n",
      "\n",
      "at random_state42, the training accuracy is :-0.9999999397515681\n",
      "at random_state42, the testing accuracy is :-0.9999999445407123\n",
      "\n",
      "\n",
      "at random_state43, the training accuracy is :-0.9999999418348632\n",
      "at random_state43, the testing accuracy is :-0.9999999363839183\n",
      "\n",
      "\n",
      "at random_state44, the training accuracy is :-0.999999938989947\n",
      "at random_state44, the testing accuracy is :-0.9999999482176671\n",
      "\n",
      "\n",
      "at random_state45, the training accuracy is :-0.9999999422095333\n",
      "at random_state45, the testing accuracy is :-0.9999999350154078\n",
      "\n",
      "\n",
      "at random_state46, the training accuracy is :-0.9999999426755378\n",
      "at random_state46, the testing accuracy is :-0.9999999366219338\n",
      "\n",
      "\n",
      "at random_state47, the training accuracy is :-0.9999999424529795\n",
      "at random_state47, the testing accuracy is :-0.9999999262807451\n",
      "\n",
      "\n",
      "at random_state48, the training accuracy is :-0.9999999453221265\n",
      "at random_state48, the testing accuracy is :-0.9999999288986304\n",
      "\n",
      "\n",
      "at random_state49, the training accuracy is :-0.9999999443517408\n",
      "at random_state49, the testing accuracy is :-0.9999999310825851\n",
      "\n",
      "\n",
      "at random_state50, the training accuracy is :-0.9999999387658725\n",
      "at random_state50, the testing accuracy is :-0.9999999431372386\n",
      "\n",
      "\n",
      "at random_state51, the training accuracy is :-0.9999999520507784\n",
      "at random_state51, the testing accuracy is :-0.999999895215408\n",
      "\n",
      "\n",
      "at random_state52, the training accuracy is :-0.9999999422306334\n",
      "at random_state52, the testing accuracy is :-0.9999999335410057\n",
      "\n",
      "\n",
      "at random_state53, the training accuracy is :-0.9999999414942469\n",
      "at random_state53, the testing accuracy is :-0.9999999372472175\n",
      "\n",
      "\n",
      "at random_state54, the training accuracy is :-0.9999999325639064\n",
      "at random_state54, the testing accuracy is :-0.9999999565851334\n",
      "\n",
      "\n",
      "at random_state55, the training accuracy is :-0.9999999425931005\n",
      "at random_state55, the testing accuracy is :-0.9999999303551028\n",
      "\n",
      "\n",
      "at random_state56, the training accuracy is :-0.9999999427009221\n",
      "at random_state56, the testing accuracy is :-0.9999999301473813\n",
      "\n",
      "\n",
      "at random_state57, the training accuracy is :-0.9999999445622473\n",
      "at random_state57, the testing accuracy is :-0.9999999287560271\n",
      "\n",
      "\n",
      "at random_state58, the training accuracy is :-0.9999999497148735\n",
      "at random_state58, the testing accuracy is :-0.9999998955954817\n",
      "\n",
      "\n",
      "at random_state59, the training accuracy is :-0.9999999448649048\n",
      "at random_state59, the testing accuracy is :-0.9999999179845138\n",
      "\n",
      "\n",
      "at random_state60, the training accuracy is :-0.9999999384315315\n",
      "at random_state60, the testing accuracy is :-0.9999999492917805\n",
      "\n",
      "\n",
      "at random_state61, the training accuracy is :-0.9999999434596087\n",
      "at random_state61, the testing accuracy is :-0.9999999324043144\n",
      "\n",
      "\n",
      "at random_state62, the training accuracy is :-0.9999999504127208\n",
      "at random_state62, the testing accuracy is :-0.9999999013762888\n",
      "\n",
      "\n",
      "at random_state63, the training accuracy is :-0.9999999442969962\n",
      "at random_state63, the testing accuracy is :-0.9999999253300247\n",
      "\n",
      "\n",
      "at random_state64, the training accuracy is :-0.999999937331152\n",
      "at random_state64, the testing accuracy is :-0.9999999481177329\n",
      "\n",
      "\n",
      "at random_state65, the training accuracy is :-0.9999999461291785\n",
      "at random_state65, the testing accuracy is :-0.9999999213078232\n",
      "\n",
      "\n",
      "at random_state66, the training accuracy is :-0.9999999452626929\n",
      "at random_state66, the testing accuracy is :-0.9999999204045324\n",
      "\n",
      "\n",
      "at random_state67, the training accuracy is :-0.9999999376726941\n",
      "at random_state67, the testing accuracy is :-0.9999999497417963\n",
      "\n",
      "\n",
      "at random_state68, the training accuracy is :-0.9999999449314411\n",
      "at random_state68, the testing accuracy is :-0.9999999272081493\n",
      "\n",
      "\n",
      "at random_state69, the training accuracy is :-0.9999999405431904\n",
      "at random_state69, the testing accuracy is :-0.9999999372258314\n",
      "\n",
      "\n",
      "at random_state70, the training accuracy is :-0.9999999482113751\n",
      "at random_state70, the testing accuracy is :-0.999999919341084\n",
      "\n",
      "\n",
      "at random_state71, the training accuracy is :-0.9999999406546753\n",
      "at random_state71, the testing accuracy is :-0.9999999432124277\n",
      "\n",
      "\n",
      "at random_state72, the training accuracy is :-0.9999999242138642\n",
      "at random_state72, the testing accuracy is :-0.9999999625471636\n",
      "\n",
      "\n",
      "at random_state73, the training accuracy is :-0.9999999403153317\n",
      "at random_state73, the testing accuracy is :-0.9999999422162313\n",
      "\n",
      "\n",
      "at random_state74, the training accuracy is :-0.9999999364242963\n",
      "at random_state74, the testing accuracy is :-0.999999950162926\n",
      "\n",
      "\n",
      "at random_state75, the training accuracy is :-0.9999999445195307\n",
      "at random_state75, the testing accuracy is :-0.999999927076754\n",
      "\n",
      "\n",
      "at random_state76, the training accuracy is :-0.9999999509219294\n",
      "at random_state76, the testing accuracy is :-0.999999889020994\n",
      "\n",
      "\n",
      "at random_state77, the training accuracy is :-0.9999999443386837\n",
      "at random_state77, the testing accuracy is :-0.9999999288510123\n",
      "\n",
      "\n",
      "at random_state78, the training accuracy is :-0.9999999465332232\n",
      "at random_state78, the testing accuracy is :-0.9999999141607832\n",
      "\n",
      "\n",
      "at random_state79, the training accuracy is :-0.9999999411824579\n",
      "at random_state79, the testing accuracy is :-0.9999999389841875\n",
      "\n",
      "\n",
      "at random_state80, the training accuracy is :-0.9999999438378477\n",
      "at random_state80, the testing accuracy is :-0.9999999223861309\n",
      "\n",
      "\n",
      "at random_state81, the training accuracy is :-0.9999999394378045\n",
      "at random_state81, the testing accuracy is :-0.9999999447821716\n",
      "\n",
      "\n",
      "at random_state82, the training accuracy is :-0.9999999402841905\n",
      "at random_state82, the testing accuracy is :-0.9999999424853567\n",
      "\n",
      "\n",
      "at random_state83, the training accuracy is :-0.9999999429450988\n",
      "at random_state83, the testing accuracy is :-0.9999999314721018\n",
      "\n",
      "\n",
      "at random_state84, the training accuracy is :-0.9999999368034244\n",
      "at random_state84, the testing accuracy is :-0.9999999492954812\n",
      "\n",
      "\n",
      "at random_state85, the training accuracy is :-0.9999999436395546\n",
      "at random_state85, the testing accuracy is :-0.9999999287691279\n",
      "\n",
      "\n",
      "at random_state86, the training accuracy is :-0.9999999409947854\n",
      "at random_state86, the testing accuracy is :-0.9999999415794295\n",
      "\n",
      "\n",
      "at random_state87, the training accuracy is :-0.9999999382467434\n",
      "at random_state87, the testing accuracy is :-0.9999999486508019\n",
      "\n",
      "\n",
      "at random_state88, the training accuracy is :-0.9999999447138401\n",
      "at random_state88, the testing accuracy is :-0.9999999242025325\n",
      "\n",
      "\n",
      "at random_state89, the training accuracy is :-0.9999999427094355\n",
      "at random_state89, the testing accuracy is :-0.9999999253419163\n",
      "\n",
      "\n",
      "at random_state90, the training accuracy is :-0.9999999350593369\n",
      "at random_state90, the testing accuracy is :-0.9999999526163229\n",
      "\n",
      "\n",
      "at random_state91, the training accuracy is :-0.9999999473770478\n",
      "at random_state91, the testing accuracy is :-0.9999999144101335\n",
      "\n",
      "\n",
      "at random_state92, the training accuracy is :-0.9999999447489976\n",
      "at random_state92, the testing accuracy is :-0.9999999279903492\n",
      "\n",
      "\n",
      "at random_state93, the training accuracy is :-0.9999999471242854\n",
      "at random_state93, the testing accuracy is :-0.9999999172715845\n",
      "\n",
      "\n",
      "at random_state94, the training accuracy is :-0.9999999413045172\n",
      "at random_state94, the testing accuracy is :-0.9999999358130429\n",
      "\n",
      "\n",
      "at random_state95, the training accuracy is :-0.999999946761089\n",
      "at random_state95, the testing accuracy is :-0.9999999207263452\n",
      "\n",
      "\n",
      "at random_state96, the training accuracy is :-0.9999999454763354\n",
      "at random_state96, the testing accuracy is :-0.9999999236031769\n",
      "\n",
      "\n",
      "at random_state97, the training accuracy is :-0.9999999430511932\n",
      "at random_state97, the testing accuracy is :-0.999999934822533\n",
      "\n",
      "\n",
      "at random_state98, the training accuracy is :-0.9999999537539918\n",
      "at random_state98, the testing accuracy is :-0.9999998828125148\n",
      "\n",
      "\n",
      "at random_state99, the training accuracy is :-0.9999999427775715\n",
      "at random_state99, the testing accuracy is :-0.9999999278073477\n",
      "\n",
      "\n"
     ]
    }
   ],
   "source": [
    "for i in range(0,100):\n",
    "    x_train, x_test, y_train, y_test= train_test_split(x, y, test_size=0.25, random_state=i)\n",
    "    lr.fit(x_train,y_train)\n",
    "    pred_train=lr.predict(x_train)\n",
    "    pred_test=lr.predict(x_test)\n",
    "    print(f\"at random_state{i}, the training accuracy is :-{r2_score(y_train,pred_train)}\")\n",
    "    print(f\"at random_state{i}, the testing accuracy is :-{r2_score(y_test,pred_test)}\")\n",
    "    print('\\n')"
   ]
  },
  {
   "cell_type": "code",
   "execution_count": 70,
   "id": "1ec628fa",
   "metadata": {},
   "outputs": [],
   "source": [
    "x_train, x_test, y_train, y_test= train_test_split(x, y, test_size=0.25, random_state=99)"
   ]
  },
  {
   "cell_type": "raw",
   "id": "4734d605",
   "metadata": {},
   "source": [
    "##train the model"
   ]
  },
  {
   "cell_type": "code",
   "execution_count": 71,
   "id": "5522bf0d",
   "metadata": {},
   "outputs": [
    {
     "data": {
      "text/plain": [
       "LinearRegression()"
      ]
     },
     "execution_count": 71,
     "metadata": {},
     "output_type": "execute_result"
    }
   ],
   "source": [
    "lr.fit(x_train, y_train)"
   ]
  },
  {
   "cell_type": "code",
   "execution_count": 72,
   "id": "ee4d7364",
   "metadata": {},
   "outputs": [
    {
     "data": {
      "text/plain": [
       "array([ True,  True,  True,  True,  True,  True,  True,  True,  True,\n",
       "        True,  True,  True,  True,  True,  True,  True,  True,  True,\n",
       "        True,  True,  True,  True,  True,  True,  True,  True,  True,\n",
       "        True,  True,  True,  True,  True,  True,  True,  True,  True,\n",
       "        True,  True,  True,  True])"
      ]
     },
     "execution_count": 72,
     "metadata": {},
     "output_type": "execute_result"
    }
   ],
   "source": [
    "pred_test==lr.predict(x_test)"
   ]
  },
  {
   "cell_type": "code",
   "execution_count": 73,
   "id": "48c59c62",
   "metadata": {},
   "outputs": [
    {
     "name": "stdout",
     "output_type": "stream",
     "text": [
      "0.9999999278073477\n"
     ]
    }
   ],
   "source": [
    "print(r2_score(y_test,pred_test))"
   ]
  },
  {
   "cell_type": "raw",
   "id": "4e597612",
   "metadata": {},
   "source": [
    "## Cross validation of the model"
   ]
  },
  {
   "cell_type": "code",
   "execution_count": 74,
   "id": "e0bb886e",
   "metadata": {},
   "outputs": [],
   "source": [
    "train_accuracy = r2_score(y_train,pred_train)\n",
    "test_accuracy= r2_score(y_test,pred_test)"
   ]
  },
  {
   "cell_type": "code",
   "execution_count": 77,
   "id": "03b3049f",
   "metadata": {},
   "outputs": [],
   "source": [
    "from sklearn.model_selection import cross_val_score"
   ]
  },
  {
   "cell_type": "code",
   "execution_count": 80,
   "id": "2c5137ba",
   "metadata": {},
   "outputs": [
    {
     "name": "stdout",
     "output_type": "stream",
     "text": [
      " At cross fold 2 the cv score is 0.9999997643283955 and accuracy score for train is 0.9999999427775715 and accuracy score for test is 0.9999999278073477\n",
      "\n",
      "\n",
      " At cross fold 10 the cv score is 0.9999915038307658 and accuracy score for train is 0.9999999427775715 and accuracy score for test is 0.9999999278073477\n",
      "\n",
      "\n"
     ]
    }
   ],
   "source": [
    "for j in (2,10):\n",
    "    cv_score=cross_val_score(lr, x,y,cv=j)\n",
    "    cv_mean=cv_score.mean()\n",
    "    print(f\" At cross fold {j} the cv score is {cv_mean} and accuracy score for train is {train_accuracy} and accuracy score for test is {test_accuracy}\")\n",
    "    print('\\n')"
   ]
  },
  {
   "cell_type": "raw",
   "id": "bb73262c",
   "metadata": {},
   "source": [
    "## All fold having same accuracy score so CV we can select 5"
   ]
  },
  {
   "cell_type": "raw",
   "id": "d890748b",
   "metadata": {},
   "source": [
    "## Validating the model performance by checking the test and train score "
   ]
  },
  {
   "cell_type": "code",
   "execution_count": 84,
   "id": "9002d4c1",
   "metadata": {},
   "outputs": [
    {
     "data": {
      "image/png": "[encoded data removed]",
      "text/plain": [
       "<Figure size 576x432 with 1 Axes>"
      ]
     },
     "metadata": {
      "needs_background": "light"
     },
     "output_type": "display_data"
    }
   ],
   "source": [
    "import matplotlib.pyplot as plt\n",
    "plt.figure(figsize=(8,6))\n",
    "plt.scatter(x=y_test,y=pred_test,color='r')\n",
    "plt.plot(y_test, y_test, color= 'b')\n",
    "plt.xlabel('Actual score', fontsize=14)\n",
    "plt.ylabel('Predicted score', fontsize=14)\n",
    "plt.title('Linear Regression', fontsize=18)\n",
    "plt.savefig('lr.png')\n",
    "plt.show()"
   ]
  },
  {
   "cell_type": "raw",
   "id": "085f7daa",
   "metadata": {},
   "source": [
    "## getting good fit model"
   ]
  },
  {
   "cell_type": "raw",
   "id": "e6da86ef",
   "metadata": {},
   "source": [
    "## Regulazation tech"
   ]
  },
  {
   "cell_type": "code",
   "execution_count": 89,
   "id": "94b26d1c",
   "metadata": {},
   "outputs": [],
   "source": [
    "from sklearn.model_selection import GridSearchCV\n",
    "from sklearn.linear_model import Lasso"
   ]
  },
  {
   "cell_type": "code",
   "execution_count": 91,
   "id": "fcf65a06",
   "metadata": {},
   "outputs": [
    {
     "name": "stdout",
     "output_type": "stream",
     "text": [
      "{'alpha': 0.0001, 'random_state': 0}\n"
     ]
    }
   ],
   "source": [
    "parameters={'alpha':[.0001,.001, .01,.1,1,10],'random_state':list(range(0,10))}\n",
    "ls=Lasso()\n",
    "clf=GridSearchCV(ls,parameters)\n",
    "clf.fit(x_train,y_train)\n",
    "print(clf.best_params_)"
   ]
  },
  {
   "cell_type": "raw",
   "id": "b83d8075",
   "metadata": {},
   "source": [
    "## Final model training"
   ]
  },
  {
   "cell_type": "code",
   "execution_count": 92,
   "id": "ae8e9bcc",
   "metadata": {},
   "outputs": [
    {
     "data": {
      "text/plain": [
       "99.99990662596971"
      ]
     },
     "execution_count": 92,
     "metadata": {},
     "output_type": "execute_result"
    }
   ],
   "source": [
    "ls=Lasso(alpha=.0001, random_state=0)\n",
    "ls.fit(x_train, y_train)\n",
    "ls_score_training=ls.score(x_train, y_train)\n",
    "pred_ls=ls.predict(x_test)\n",
    "ls_score_training*100"
   ]
  },
  {
   "cell_type": "code",
   "execution_count": 93,
   "id": "45394260",
   "metadata": {},
   "outputs": [],
   "source": [
    "pred_ls=ls.predict(x_test)"
   ]
  },
  {
   "cell_type": "code",
   "execution_count": 94,
   "id": "149bfbf7",
   "metadata": {},
   "outputs": [
    {
     "data": {
      "text/plain": [
       "99.99989104199243"
      ]
     },
     "execution_count": 94,
     "metadata": {},
     "output_type": "execute_result"
    }
   ],
   "source": [
    "lss=r2_score(y_test,pred_ls)\n",
    "lss*100"
   ]
  },
  {
   "cell_type": "code",
   "execution_count": 95,
   "id": "dd7849b0",
   "metadata": {},
   "outputs": [
    {
     "data": {
      "text/plain": [
       "99.99410137274435"
      ]
     },
     "execution_count": 95,
     "metadata": {},
     "output_type": "execute_result"
    }
   ],
   "source": [
    "cv_score= cross_val_score(ls,x,y,cv=5)\n",
    "cv_mean=cv_score.mean()\n",
    "cv_mean*100"
   ]
  },
  {
   "cell_type": "raw",
   "id": "d2dd61f5",
   "metadata": {},
   "source": [
    "## accuracy score difference is in very small margine hence my model is not overfiting and performing good"
   ]
  },
  {
   "cell_type": "raw",
   "id": "06e6bd0c",
   "metadata": {},
   "source": [
    "# Ensemble tec"
   ]
  },
  {
   "cell_type": "code",
   "execution_count": 96,
   "id": "0c186844",
   "metadata": {},
   "outputs": [
    {
     "name": "stdout",
     "output_type": "stream",
     "text": [
      "{'criterion': 'mse', 'max_features': 'auto'}\n"
     ]
    }
   ],
   "source": [
    "from sklearn.ensemble import RandomForestRegressor\n",
    "parameters= {'criterion':[\"mse\",\"mae\"],'max_features':['auto','sqrt','log2']}\n",
    "rf=RandomForestRegressor()\n",
    "clf=GridSearchCV(rf,parameters)\n",
    "clf.fit(x_train,y_train)\n",
    "print(clf.best_params_)\n"
   ]
  },
  {
   "cell_type": "code",
   "execution_count": 104,
   "id": "38227176",
   "metadata": {},
   "outputs": [
    {
     "name": "stdout",
     "output_type": "stream",
     "text": [
      "r2_score: 89.17838174606587\n",
      "Cross Val Score: -431.48083979669013\n"
     ]
    }
   ],
   "source": [
    "rf=RandomForestRegressor(criterion=\"mse\", max_features= \"auto\")\n",
    "rf.fit(x_train, y_train)\n",
    "rf.score(x_train,y_train)\n",
    "pred_decision=rf.predict(x_test)\n",
    "rfs=r2_score(y_test,pred_decision)\n",
    "print('r2_score:', rfs*100)\n",
    "\n",
    "rfscore=cross_val_score(rf,x,y,cv=2)\n",
    "rfc=rfscore.mean()\n",
    "print (\"Cross Val Score:\" ,rfc*100)"
   ]
  },
  {
   "cell_type": "code",
   "execution_count": 105,
   "id": "931ce358",
   "metadata": {},
   "outputs": [],
   "source": [
    "import pickle\n",
    "filename=\"churn.pkl\"\n",
    "pickle.dump(rf, open(filename,'wb'))\n"
   ]
  },
  {
   "cell_type": "raw",
   "id": "3d67ac71",
   "metadata": {},
   "source": [
    "Conclussion\n"
   ]
  },
  {
   "cell_type": "code",
   "execution_count": 107,
   "id": "3edd3da5",
   "metadata": {},
   "outputs": [
    {
     "name": "stdout",
     "output_type": "stream",
     "text": [
      "89.17838174606587\n"
     ]
    }
   ],
   "source": [
    "loaded_model=pickle.load(open('churn.pkl','rb'))\n",
    "result=loaded_model.score(x_test,y_test)\n",
    "print(result*100)"
   ]
  },
  {
   "cell_type": "code",
   "execution_count": 108,
   "id": "d600ccc4",
   "metadata": {},
   "outputs": [
    {
     "data": {
      "text/html": [
       "<div>\n",
       "<style scoped>\n",
       "    .dataframe tbody tr th:only-of-type {\n",
       "        vertical-align: middle;\n",
       "    }\n",
       "\n",
       "    .dataframe tbody tr th {\n",
       "        vertical-align: top;\n",
       "    }\n",
       "\n",
       "    .dataframe thead th {\n",
       "        text-align: right;\n",
       "    }\n",
       "</style>\n",
       "<table border=\"1\" class=\"dataframe\">\n",
       "  <thead>\n",
       "    <tr style=\"text-align: right;\">\n",
       "      <th></th>\n",
       "      <th>0</th>\n",
       "      <th>1</th>\n",
       "      <th>2</th>\n",
       "      <th>3</th>\n",
       "      <th>4</th>\n",
       "      <th>5</th>\n",
       "      <th>6</th>\n",
       "      <th>7</th>\n",
       "      <th>8</th>\n",
       "      <th>9</th>\n",
       "      <th>...</th>\n",
       "      <th>30</th>\n",
       "      <th>31</th>\n",
       "      <th>32</th>\n",
       "      <th>33</th>\n",
       "      <th>34</th>\n",
       "      <th>35</th>\n",
       "      <th>36</th>\n",
       "      <th>37</th>\n",
       "      <th>38</th>\n",
       "      <th>39</th>\n",
       "    </tr>\n",
       "  </thead>\n",
       "  <tbody>\n",
       "    <tr>\n",
       "      <th>Predicted</th>\n",
       "      <td>5.82002</td>\n",
       "      <td>5.42095</td>\n",
       "      <td>3.79474</td>\n",
       "      <td>4.62509</td>\n",
       "      <td>5.16589</td>\n",
       "      <td>7.28601</td>\n",
       "      <td>5.50178</td>\n",
       "      <td>4.7112</td>\n",
       "      <td>7.0709</td>\n",
       "      <td>5.04175</td>\n",
       "      <td>...</td>\n",
       "      <td>4.63525</td>\n",
       "      <td>3.95074</td>\n",
       "      <td>7.07143</td>\n",
       "      <td>5.50208</td>\n",
       "      <td>6.01597</td>\n",
       "      <td>5.88807</td>\n",
       "      <td>5.32578</td>\n",
       "      <td>6.41983</td>\n",
       "      <td>6.52426</td>\n",
       "      <td>4.85744</td>\n",
       "    </tr>\n",
       "    <tr>\n",
       "      <th>Original</th>\n",
       "      <td>5.82002</td>\n",
       "      <td>5.42095</td>\n",
       "      <td>3.79474</td>\n",
       "      <td>4.62509</td>\n",
       "      <td>5.16589</td>\n",
       "      <td>7.28601</td>\n",
       "      <td>5.50178</td>\n",
       "      <td>4.7112</td>\n",
       "      <td>7.0709</td>\n",
       "      <td>5.04175</td>\n",
       "      <td>...</td>\n",
       "      <td>4.63525</td>\n",
       "      <td>3.95074</td>\n",
       "      <td>7.07143</td>\n",
       "      <td>5.50208</td>\n",
       "      <td>6.01597</td>\n",
       "      <td>5.88807</td>\n",
       "      <td>5.32578</td>\n",
       "      <td>6.41983</td>\n",
       "      <td>6.52426</td>\n",
       "      <td>4.85744</td>\n",
       "    </tr>\n",
       "  </tbody>\n",
       "</table>\n",
       "<p>2 rows × 40 columns</p>\n",
       "</div>"
      ],
      "text/plain": [
       "                0        1        2        3        4        5        6   \\\n",
       "Predicted  5.82002  5.42095  3.79474  4.62509  5.16589  7.28601  5.50178   \n",
       "Original   5.82002  5.42095  3.79474  4.62509  5.16589  7.28601  5.50178   \n",
       "\n",
       "               7       8        9   ...       30       31       32       33  \\\n",
       "Predicted  4.7112  7.0709  5.04175  ...  4.63525  3.95074  7.07143  5.50208   \n",
       "Original   4.7112  7.0709  5.04175  ...  4.63525  3.95074  7.07143  5.50208   \n",
       "\n",
       "                34       35       36       37       38       39  \n",
       "Predicted  6.01597  5.88807  5.32578  6.41983  6.52426  4.85744  \n",
       "Original   6.01597  5.88807  5.32578  6.41983  6.52426  4.85744  \n",
       "\n",
       "[2 rows x 40 columns]"
      ]
     },
     "execution_count": 108,
     "metadata": {},
     "output_type": "execute_result"
    }
   ],
   "source": [
    "conclussion=pd.DataFrame([loaded_model.predict(x_test)[:], pred_decision[:]],index=[\"Predicted\", \"Original\"])\n",
    "conclussion"
   ]
  },
  {
   "cell_type": "raw",
   "id": "5f6377d6",
   "metadata": {},
   "source": [
    "### Predicted and Original values are same"
   ]
  }
 ],
 "metadata": {
  "kernelspec": {
   "display_name": "Python 3 (ipykernel)",
   "language": "python",
   "name": "python3"
  },
  "language_info": {
   "codemirror_mode": {
    "name": "ipython",
    "version": 3
   },
   "file_extension": ".py",
   "mimetype": "text/x-python",
   "name": "python",
   "nbconvert_exporter": "python",
   "pygments_lexer": "ipython3",
   "version": "3.9.12"
  }
 },
 "nbformat": 4,
 "nbformat_minor": 5
}
