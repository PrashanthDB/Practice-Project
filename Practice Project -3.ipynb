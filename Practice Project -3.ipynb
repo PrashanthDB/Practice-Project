{
 "cells": [
  {
   "cell_type": "raw",
   "id": "a3175007",
   "metadata": {},
   "source": [
    "Practice Project - 3\n",
    "Medical Cost Personal Insurance Datasets\n",
    "Problem Statement:\n",
    "Insurance Forecast by using Linear Regression\n",
    "\n",
    "Health insurance is a type of insurance that covers medical expenses that arise due to an illness. These expenses could be related to hospitalisation costs, cost of medicines or doctor consultation fees. The main purpose of medical insurance is to receive the best medical care without any strain on your finances. Health insurance plans offer protection against high medical costs. It covers hospitalization expenses, day care procedures, domiciliary expenses, and ambulance charges, besides many others. Based on certain input features such as age , bmi,,no of dependents ,smoker ,region  medical insurance is calculated .\n",
    "\n",
    "Columns                                            \n",
    "\n",
    "·         age: age of primary beneficiary\n",
    "\n",
    "·         sex: insurance contractor gender, female, male\n",
    "\n",
    "·       bmi: Body mass index, providing an understanding of body, weights that are relatively high or low relative to height, objective index of body weight (kg / m ^ 2) using the ratio of height to weight, ideally 18.5 to 24.9.\n",
    "\n",
    "·       children: Number of children covered by health insurance / Number of dependents\n",
    "\n",
    "·     smoker: Smoking\n",
    "\n",
    "·      region: the beneficiary's residential area in the US, northeast, southeast, southwest, northwest.\n",
    "\n",
    "·     charges: Individual medical costs billed by health insurance\n",
    "\n",
    "Predict : Charges  Can you accurately predict insurance costs?\n",
    "\n",
    "Downlaod Files:\n",
    "https://github.com/dsrscientist/dataset4\n",
    "https://github.com/dsrscientist/dataset4/blob/main/medical_cost_insurance.csv\n"
   ]
  },
  {
   "cell_type": "raw",
   "id": "486a0029",
   "metadata": {},
   "source": [
    "## Predict- Charges can you accurately  predict insurance costs based on provided data set."
   ]
  },
  {
   "cell_type": "raw",
   "id": "a1473afd",
   "metadata": {},
   "source": [
    "## import Libraries  "
   ]
  },
  {
   "cell_type": "code",
   "execution_count": 1,
   "id": "2ce2509f",
   "metadata": {},
   "outputs": [],
   "source": [
    "import pandas as pd\n",
    "import numpy as np\n",
    "import seaborn as sns\n",
    "import matplotlib.pyplot as plt\n",
    "from sklearn.preprocessing import MinMaxScaler\n",
    "mms=MinMaxScaler()\n",
    "from sklearn.linear_model import LinearRegression\n",
    "lr=LinearRegression()\n",
    "from sklearn.model_selection import train_test_split\n",
    "from sklearn.metrics import r2_score"
   ]
  },
  {
   "cell_type": "code",
   "execution_count": 7,
   "id": "8c8bc6ed",
   "metadata": {},
   "outputs": [
    {
     "data": {
      "text/html": [
       "<div>\n",
       "<style scoped>\n",
       "    .dataframe tbody tr th:only-of-type {\n",
       "        vertical-align: middle;\n",
       "    }\n",
       "\n",
       "    .dataframe tbody tr th {\n",
       "        vertical-align: top;\n",
       "    }\n",
       "\n",
       "    .dataframe thead th {\n",
       "        text-align: right;\n",
       "    }\n",
       "</style>\n",
       "<table border=\"1\" class=\"dataframe\">\n",
       "  <thead>\n",
       "    <tr style=\"text-align: right;\">\n",
       "      <th></th>\n",
       "      <th>age</th>\n",
       "      <th>sex</th>\n",
       "      <th>bmi</th>\n",
       "      <th>children</th>\n",
       "      <th>smoker</th>\n",
       "      <th>region</th>\n",
       "      <th>charges</th>\n",
       "    </tr>\n",
       "  </thead>\n",
       "  <tbody>\n",
       "    <tr>\n",
       "      <th>0</th>\n",
       "      <td>19</td>\n",
       "      <td>female</td>\n",
       "      <td>27.900</td>\n",
       "      <td>0</td>\n",
       "      <td>yes</td>\n",
       "      <td>southwest</td>\n",
       "      <td>16884.92400</td>\n",
       "    </tr>\n",
       "    <tr>\n",
       "      <th>1</th>\n",
       "      <td>18</td>\n",
       "      <td>male</td>\n",
       "      <td>33.770</td>\n",
       "      <td>1</td>\n",
       "      <td>no</td>\n",
       "      <td>southeast</td>\n",
       "      <td>1725.55230</td>\n",
       "    </tr>\n",
       "    <tr>\n",
       "      <th>2</th>\n",
       "      <td>28</td>\n",
       "      <td>male</td>\n",
       "      <td>33.000</td>\n",
       "      <td>3</td>\n",
       "      <td>no</td>\n",
       "      <td>southeast</td>\n",
       "      <td>4449.46200</td>\n",
       "    </tr>\n",
       "    <tr>\n",
       "      <th>3</th>\n",
       "      <td>33</td>\n",
       "      <td>male</td>\n",
       "      <td>22.705</td>\n",
       "      <td>0</td>\n",
       "      <td>no</td>\n",
       "      <td>northwest</td>\n",
       "      <td>21984.47061</td>\n",
       "    </tr>\n",
       "    <tr>\n",
       "      <th>4</th>\n",
       "      <td>32</td>\n",
       "      <td>male</td>\n",
       "      <td>28.880</td>\n",
       "      <td>0</td>\n",
       "      <td>no</td>\n",
       "      <td>northwest</td>\n",
       "      <td>3866.85520</td>\n",
       "    </tr>\n",
       "    <tr>\n",
       "      <th>5</th>\n",
       "      <td>31</td>\n",
       "      <td>female</td>\n",
       "      <td>25.740</td>\n",
       "      <td>0</td>\n",
       "      <td>no</td>\n",
       "      <td>southeast</td>\n",
       "      <td>3756.62160</td>\n",
       "    </tr>\n",
       "    <tr>\n",
       "      <th>6</th>\n",
       "      <td>46</td>\n",
       "      <td>female</td>\n",
       "      <td>33.440</td>\n",
       "      <td>1</td>\n",
       "      <td>no</td>\n",
       "      <td>southeast</td>\n",
       "      <td>8240.58960</td>\n",
       "    </tr>\n",
       "    <tr>\n",
       "      <th>7</th>\n",
       "      <td>37</td>\n",
       "      <td>female</td>\n",
       "      <td>27.740</td>\n",
       "      <td>3</td>\n",
       "      <td>no</td>\n",
       "      <td>northwest</td>\n",
       "      <td>7281.50560</td>\n",
       "    </tr>\n",
       "    <tr>\n",
       "      <th>8</th>\n",
       "      <td>37</td>\n",
       "      <td>male</td>\n",
       "      <td>29.830</td>\n",
       "      <td>2</td>\n",
       "      <td>no</td>\n",
       "      <td>northeast</td>\n",
       "      <td>6406.41070</td>\n",
       "    </tr>\n",
       "    <tr>\n",
       "      <th>9</th>\n",
       "      <td>60</td>\n",
       "      <td>female</td>\n",
       "      <td>25.840</td>\n",
       "      <td>0</td>\n",
       "      <td>no</td>\n",
       "      <td>northwest</td>\n",
       "      <td>28923.13692</td>\n",
       "    </tr>\n",
       "  </tbody>\n",
       "</table>\n",
       "</div>"
      ],
      "text/plain": [
       "   age     sex     bmi  children smoker     region      charges\n",
       "0   19  female  27.900         0    yes  southwest  16884.92400\n",
       "1   18    male  33.770         1     no  southeast   1725.55230\n",
       "2   28    male  33.000         3     no  southeast   4449.46200\n",
       "3   33    male  22.705         0     no  northwest  21984.47061\n",
       "4   32    male  28.880         0     no  northwest   3866.85520\n",
       "5   31  female  25.740         0     no  southeast   3756.62160\n",
       "6   46  female  33.440         1     no  southeast   8240.58960\n",
       "7   37  female  27.740         3     no  northwest   7281.50560\n",
       "8   37    male  29.830         2     no  northeast   6406.41070\n",
       "9   60  female  25.840         0     no  northwest  28923.13692"
      ]
     },
     "execution_count": 7,
     "metadata": {},
     "output_type": "execute_result"
    }
   ],
   "source": [
    "df=pd.read_csv(\"https://raw.githubusercontent.com/dsrscientist/dataset4/main/medical_cost_insurance.csv\")\n",
    "df.head(10)"
   ]
  },
  {
   "cell_type": "code",
   "execution_count": 3,
   "id": "50a29a0c",
   "metadata": {},
   "outputs": [
    {
     "data": {
      "text/plain": [
       "Index(['age', 'sex', 'bmi', 'children', 'smoker', 'region', 'charges'], dtype='object')"
      ]
     },
     "execution_count": 3,
     "metadata": {},
     "output_type": "execute_result"
    }
   ],
   "source": [
    "df.columns"
   ]
  },
  {
   "cell_type": "raw",
   "id": "9f0d872b",
   "metadata": {},
   "source": [
    "## data set contains the 7 columns"
   ]
  },
  {
   "cell_type": "code",
   "execution_count": 4,
   "id": "cda3f310",
   "metadata": {},
   "outputs": [
    {
     "data": {
      "text/plain": [
       "(1338, 7)"
      ]
     },
     "execution_count": 4,
     "metadata": {},
     "output_type": "execute_result"
    }
   ],
   "source": [
    "df.shape"
   ]
  },
  {
   "cell_type": "raw",
   "id": "f817851f",
   "metadata": {},
   "source": [
    "## data set  is having 1338 rows and 7 columns"
   ]
  },
  {
   "cell_type": "raw",
   "id": "b46d366b",
   "metadata": {},
   "source": [
    "## Dataframe description :\n",
    "the dataset containes the data of Medical Cost Personal Insurance Dataset, on basis of dataset we have to pridict the Charges can you accurately  predict insurance costs based on provided data set.\n",
    "the dataset containes the data like age, sex, bmi, children, smoker, region, charges.\n",
    "\n",
    "in above dataset we have to predict- Charges can you accurately  predict insurance costs based on provided data set.\n"
   ]
  },
  {
   "cell_type": "raw",
   "id": "3a16574e",
   "metadata": {},
   "source": [
    "## checking null values in data set"
   ]
  },
  {
   "cell_type": "code",
   "execution_count": 5,
   "id": "dcef928c",
   "metadata": {},
   "outputs": [
    {
     "data": {
      "text/plain": [
       "age         0\n",
       "sex         0\n",
       "bmi         0\n",
       "children    0\n",
       "smoker      0\n",
       "region      0\n",
       "charges     0\n",
       "dtype: int64"
      ]
     },
     "execution_count": 5,
     "metadata": {},
     "output_type": "execute_result"
    }
   ],
   "source": [
    "df.isnull().sum()"
   ]
  },
  {
   "cell_type": "raw",
   "id": "c9925889",
   "metadata": {},
   "source": [
    "## data set is not having any null values"
   ]
  },
  {
   "cell_type": "code",
   "execution_count": 6,
   "id": "8e018783",
   "metadata": {},
   "outputs": [
    {
     "data": {
      "text/plain": [
       "age           int64\n",
       "sex          object\n",
       "bmi         float64\n",
       "children      int64\n",
       "smoker       object\n",
       "region       object\n",
       "charges     float64\n",
       "dtype: object"
      ]
     },
     "execution_count": 6,
     "metadata": {},
     "output_type": "execute_result"
    }
   ],
   "source": [
    "df.dtypes"
   ]
  },
  {
   "cell_type": "raw",
   "id": "68d99f8a",
   "metadata": {},
   "source": [
    "Target variable data type is float vaules it means continuoes values hence its regression problem."
   ]
  },
  {
   "cell_type": "code",
   "execution_count": 9,
   "id": "ef0915d3",
   "metadata": {},
   "outputs": [
    {
     "data": {
      "text/plain": [
       "array(['female', 'male'], dtype=object)"
      ]
     },
     "execution_count": 9,
     "metadata": {},
     "output_type": "execute_result"
    }
   ],
   "source": [
    "df['sex'].unique()"
   ]
  },
  {
   "cell_type": "raw",
   "id": "db23716f",
   "metadata": {},
   "source": [
    "## Making the dataframe for the Nomial data:"
   ]
  },
  {
   "cell_type": "code",
   "execution_count": 31,
   "id": "37e355f5",
   "metadata": {},
   "outputs": [],
   "source": [
    "df_visualization_nomial=df[['sex','smoker', 'region']].copy()"
   ]
  },
  {
   "cell_type": "code",
   "execution_count": 32,
   "id": "41497f77",
   "metadata": {},
   "outputs": [
    {
     "data": {
      "text/plain": [
       "Index(['sex', 'smoker', 'region'], dtype='object')"
      ]
     },
     "execution_count": 32,
     "metadata": {},
     "output_type": "execute_result"
    }
   ],
   "source": [
    "df_visualization_nomial.columns"
   ]
  },
  {
   "cell_type": "raw",
   "id": "89286854",
   "metadata": {},
   "source": [
    "## visualization of the data:\n",
    "for nomial data will use countplot it will give the frequency of classes."
   ]
  },
  {
   "cell_type": "code",
   "execution_count": 22,
   "id": "f063c0fc",
   "metadata": {
    "scrolled": true
   },
   "outputs": [
    {
     "name": "stdout",
     "output_type": "stream",
     "text": [
      "male      676\n",
      "female    662\n",
      "Name: sex, dtype: int64\n"
     ]
    },
    {
     "data": {
      "image/png": "[encoded data removed]",
      "text/plain": [
       "<Figure size 432x288 with 1 Axes>"
      ]
     },
     "metadata": {
      "needs_background": "light"
     },
     "output_type": "display_data"
    }
   ],
   "source": [
    "ax= sns.countplot(x='sex',data=df_visualization_nomial)\n",
    "print(df_visualization_nomial['sex'].value_counts())\n"
   ]
  },
  {
   "cell_type": "raw",
   "id": "afe7ae1e",
   "metadata": {},
   "source": [
    "from the above observation total number of male is 676 and female is 662"
   ]
  },
  {
   "cell_type": "code",
   "execution_count": 28,
   "id": "7e718472",
   "metadata": {},
   "outputs": [
    {
     "name": "stdout",
     "output_type": "stream",
     "text": [
      "no     1064\n",
      "yes     274\n",
      "Name: smoker, dtype: int64\n"
     ]
    },
    {
     "data": {
      "image/png": "[encoded data removed]",
      "text/plain": [
       "<Figure size 432x288 with 1 Axes>"
      ]
     },
     "metadata": {
      "needs_background": "light"
     },
     "output_type": "display_data"
    }
   ],
   "source": [
    "ax= sns.countplot(x='smoker',data=df_visualization_nomial)\n",
    "print(df_visualization_nomial['smoker'].value_counts())"
   ]
  },
  {
   "cell_type": "raw",
   "id": "d70d6bfd",
   "metadata": {},
   "source": [
    "from the above observation the smoker is 274 and non somker is 1064"
   ]
  },
  {
   "cell_type": "raw",
   "id": "f9d8bdcb",
   "metadata": {},
   "source": [
    "from the above observation the no dependent covered for 574, 1 dependent covered in 324, 2 dependents on 240, 3 dependents covered in 157, 4 dependents covered in 25, 5 dependents covered in 18."
   ]
  },
  {
   "cell_type": "code",
   "execution_count": 30,
   "id": "a47e84d4",
   "metadata": {},
   "outputs": [
    {
     "name": "stdout",
     "output_type": "stream",
     "text": [
      "southeast    364\n",
      "southwest    325\n",
      "northwest    325\n",
      "northeast    324\n",
      "Name: region, dtype: int64\n"
     ]
    },
    {
     "data": {
      "image/png": "[encoded data removed]",
      "text/plain": [
       "<Figure size 432x288 with 1 Axes>"
      ]
     },
     "metadata": {
      "needs_background": "light"
     },
     "output_type": "display_data"
    }
   ],
   "source": [
    "ax= sns.countplot(x='region',data=df_visualization_nomial)\n",
    "print(df_visualization_nomial['region'].value_counts())"
   ]
  },
  {
   "cell_type": "raw",
   "id": "7a5e7516",
   "metadata": {},
   "source": [
    "from the above observation people from southeast is 364, southwest is 325, northwest is 325, northeastis 324"
   ]
  },
  {
   "cell_type": "code",
   "execution_count": null,
   "id": "66771d3b",
   "metadata": {},
   "outputs": [],
   "source": [
    "Checking the visualization on continuous values"
   ]
  },
  {
   "cell_type": "code",
   "execution_count": 48,
   "id": "c8e010bf",
   "metadata": {},
   "outputs": [],
   "source": [
    "df_visualization_continuous=df[[\"charges\"]].copy()"
   ]
  },
  {
   "cell_type": "code",
   "execution_count": 49,
   "id": "bd4a15e6",
   "metadata": {},
   "outputs": [
    {
     "data": {
      "text/plain": [
       "<seaborn.axisgrid.FacetGrid at 0x2330fca2550>"
      ]
     },
     "execution_count": 49,
     "metadata": {},
     "output_type": "execute_result"
    },
    {
     "data": {
      "image/png": "[encoded data removed]",
      "text/plain": [
       "<Figure size 360x360 with 1 Axes>"
      ]
     },
     "metadata": {
      "needs_background": "light"
     },
     "output_type": "display_data"
    }
   ],
   "source": [
    "sns.displot(df_visualization_continuous[\"charges\"], kde=True)"
   ]
  },
  {
   "cell_type": "raw",
   "id": "0de559ee",
   "metadata": {},
   "source": [
    "## the distribution of data is positive skewed data"
   ]
  },
  {
   "cell_type": "raw",
   "id": "bb7ecbe8",
   "metadata": {},
   "source": [
    "## Encoding of data set "
   ]
  },
  {
   "cell_type": "code",
   "execution_count": 51,
   "id": "14a5f04f",
   "metadata": {},
   "outputs": [],
   "source": [
    "from sklearn.preprocessing import OrdinalEncoder\n",
    "enc= OrdinalEncoder()"
   ]
  },
  {
   "cell_type": "code",
   "execution_count": 201,
   "id": "4d78f200",
   "metadata": {},
   "outputs": [],
   "source": [
    "for i in df.columns:\n",
    "    if df[i].dtypes=='object':\n",
    "        df[i]=enc.fit_transform(df[i].values.reshape(-1,1),inplace=True)"
   ]
  },
  {
   "cell_type": "code",
   "execution_count": 202,
   "id": "a7e34d87",
   "metadata": {},
   "outputs": [
    {
     "data": {
      "text/html": [
       "<div>\n",
       "<style scoped>\n",
       "    .dataframe tbody tr th:only-of-type {\n",
       "        vertical-align: middle;\n",
       "    }\n",
       "\n",
       "    .dataframe tbody tr th {\n",
       "        vertical-align: top;\n",
       "    }\n",
       "\n",
       "    .dataframe thead th {\n",
       "        text-align: right;\n",
       "    }\n",
       "</style>\n",
       "<table border=\"1\" class=\"dataframe\">\n",
       "  <thead>\n",
       "    <tr style=\"text-align: right;\">\n",
       "      <th></th>\n",
       "      <th>age</th>\n",
       "      <th>sex</th>\n",
       "      <th>bmi</th>\n",
       "      <th>children</th>\n",
       "      <th>smoker</th>\n",
       "      <th>region</th>\n",
       "      <th>charges</th>\n",
       "    </tr>\n",
       "  </thead>\n",
       "  <tbody>\n",
       "    <tr>\n",
       "      <th>0</th>\n",
       "      <td>19</td>\n",
       "      <td>0.0</td>\n",
       "      <td>27.900</td>\n",
       "      <td>0</td>\n",
       "      <td>1.0</td>\n",
       "      <td>3.0</td>\n",
       "      <td>16884.92400</td>\n",
       "    </tr>\n",
       "    <tr>\n",
       "      <th>1</th>\n",
       "      <td>18</td>\n",
       "      <td>1.0</td>\n",
       "      <td>33.770</td>\n",
       "      <td>1</td>\n",
       "      <td>0.0</td>\n",
       "      <td>2.0</td>\n",
       "      <td>1725.55230</td>\n",
       "    </tr>\n",
       "    <tr>\n",
       "      <th>2</th>\n",
       "      <td>28</td>\n",
       "      <td>1.0</td>\n",
       "      <td>33.000</td>\n",
       "      <td>3</td>\n",
       "      <td>0.0</td>\n",
       "      <td>2.0</td>\n",
       "      <td>4449.46200</td>\n",
       "    </tr>\n",
       "    <tr>\n",
       "      <th>3</th>\n",
       "      <td>33</td>\n",
       "      <td>1.0</td>\n",
       "      <td>22.705</td>\n",
       "      <td>0</td>\n",
       "      <td>0.0</td>\n",
       "      <td>1.0</td>\n",
       "      <td>21984.47061</td>\n",
       "    </tr>\n",
       "    <tr>\n",
       "      <th>4</th>\n",
       "      <td>32</td>\n",
       "      <td>1.0</td>\n",
       "      <td>28.880</td>\n",
       "      <td>0</td>\n",
       "      <td>0.0</td>\n",
       "      <td>1.0</td>\n",
       "      <td>3866.85520</td>\n",
       "    </tr>\n",
       "  </tbody>\n",
       "</table>\n",
       "</div>"
      ],
      "text/plain": [
       "   age  sex     bmi  children  smoker  region      charges\n",
       "0   19  0.0  27.900         0     1.0     3.0  16884.92400\n",
       "1   18  1.0  33.770         1     0.0     2.0   1725.55230\n",
       "2   28  1.0  33.000         3     0.0     2.0   4449.46200\n",
       "3   33  1.0  22.705         0     0.0     1.0  21984.47061\n",
       "4   32  1.0  28.880         0     0.0     1.0   3866.85520"
      ]
     },
     "execution_count": 202,
     "metadata": {},
     "output_type": "execute_result"
    }
   ],
   "source": [
    "df.head()"
   ]
  },
  {
   "cell_type": "code",
   "execution_count": 203,
   "id": "60c66fa9",
   "metadata": {},
   "outputs": [
    {
     "data": {
      "text/html": [
       "<div>\n",
       "<style scoped>\n",
       "    .dataframe tbody tr th:only-of-type {\n",
       "        vertical-align: middle;\n",
       "    }\n",
       "\n",
       "    .dataframe tbody tr th {\n",
       "        vertical-align: top;\n",
       "    }\n",
       "\n",
       "    .dataframe thead th {\n",
       "        text-align: right;\n",
       "    }\n",
       "</style>\n",
       "<table border=\"1\" class=\"dataframe\">\n",
       "  <thead>\n",
       "    <tr style=\"text-align: right;\">\n",
       "      <th></th>\n",
       "      <th>age</th>\n",
       "      <th>sex</th>\n",
       "      <th>bmi</th>\n",
       "      <th>children</th>\n",
       "      <th>smoker</th>\n",
       "      <th>region</th>\n",
       "      <th>charges</th>\n",
       "    </tr>\n",
       "  </thead>\n",
       "  <tbody>\n",
       "    <tr>\n",
       "      <th>count</th>\n",
       "      <td>1338.000000</td>\n",
       "      <td>1338.000000</td>\n",
       "      <td>1338.000000</td>\n",
       "      <td>1338.000000</td>\n",
       "      <td>1338.000000</td>\n",
       "      <td>1338.000000</td>\n",
       "      <td>1338.000000</td>\n",
       "    </tr>\n",
       "    <tr>\n",
       "      <th>mean</th>\n",
       "      <td>39.207025</td>\n",
       "      <td>0.505232</td>\n",
       "      <td>30.663397</td>\n",
       "      <td>1.094918</td>\n",
       "      <td>0.204783</td>\n",
       "      <td>1.515695</td>\n",
       "      <td>13270.422265</td>\n",
       "    </tr>\n",
       "    <tr>\n",
       "      <th>std</th>\n",
       "      <td>14.049960</td>\n",
       "      <td>0.500160</td>\n",
       "      <td>6.098187</td>\n",
       "      <td>1.205493</td>\n",
       "      <td>0.403694</td>\n",
       "      <td>1.104885</td>\n",
       "      <td>12110.011237</td>\n",
       "    </tr>\n",
       "    <tr>\n",
       "      <th>min</th>\n",
       "      <td>18.000000</td>\n",
       "      <td>0.000000</td>\n",
       "      <td>15.960000</td>\n",
       "      <td>0.000000</td>\n",
       "      <td>0.000000</td>\n",
       "      <td>0.000000</td>\n",
       "      <td>1121.873900</td>\n",
       "    </tr>\n",
       "    <tr>\n",
       "      <th>25%</th>\n",
       "      <td>27.000000</td>\n",
       "      <td>0.000000</td>\n",
       "      <td>26.296250</td>\n",
       "      <td>0.000000</td>\n",
       "      <td>0.000000</td>\n",
       "      <td>1.000000</td>\n",
       "      <td>4740.287150</td>\n",
       "    </tr>\n",
       "    <tr>\n",
       "      <th>50%</th>\n",
       "      <td>39.000000</td>\n",
       "      <td>1.000000</td>\n",
       "      <td>30.400000</td>\n",
       "      <td>1.000000</td>\n",
       "      <td>0.000000</td>\n",
       "      <td>2.000000</td>\n",
       "      <td>9382.033000</td>\n",
       "    </tr>\n",
       "    <tr>\n",
       "      <th>75%</th>\n",
       "      <td>51.000000</td>\n",
       "      <td>1.000000</td>\n",
       "      <td>34.693750</td>\n",
       "      <td>2.000000</td>\n",
       "      <td>0.000000</td>\n",
       "      <td>2.000000</td>\n",
       "      <td>16639.912515</td>\n",
       "    </tr>\n",
       "    <tr>\n",
       "      <th>max</th>\n",
       "      <td>64.000000</td>\n",
       "      <td>1.000000</td>\n",
       "      <td>53.130000</td>\n",
       "      <td>5.000000</td>\n",
       "      <td>1.000000</td>\n",
       "      <td>3.000000</td>\n",
       "      <td>63770.428010</td>\n",
       "    </tr>\n",
       "  </tbody>\n",
       "</table>\n",
       "</div>"
      ],
      "text/plain": [
       "               age          sex          bmi     children       smoker  \\\n",
       "count  1338.000000  1338.000000  1338.000000  1338.000000  1338.000000   \n",
       "mean     39.207025     0.505232    30.663397     1.094918     0.204783   \n",
       "std      14.049960     0.500160     6.098187     1.205493     0.403694   \n",
       "min      18.000000     0.000000    15.960000     0.000000     0.000000   \n",
       "25%      27.000000     0.000000    26.296250     0.000000     0.000000   \n",
       "50%      39.000000     1.000000    30.400000     1.000000     0.000000   \n",
       "75%      51.000000     1.000000    34.693750     2.000000     0.000000   \n",
       "max      64.000000     1.000000    53.130000     5.000000     1.000000   \n",
       "\n",
       "            region       charges  \n",
       "count  1338.000000   1338.000000  \n",
       "mean      1.515695  13270.422265  \n",
       "std       1.104885  12110.011237  \n",
       "min       0.000000   1121.873900  \n",
       "25%       1.000000   4740.287150  \n",
       "50%       2.000000   9382.033000  \n",
       "75%       2.000000  16639.912515  \n",
       "max       3.000000  63770.428010  "
      ]
     },
     "execution_count": 203,
     "metadata": {},
     "output_type": "execute_result"
    }
   ],
   "source": [
    "df.describe()"
   ]
  },
  {
   "cell_type": "raw",
   "id": "f66a8607",
   "metadata": {},
   "source": [
    "## Checking correlation by using the heat map"
   ]
  },
  {
   "cell_type": "code",
   "execution_count": 59,
   "id": "8c8c932a",
   "metadata": {},
   "outputs": [
    {
     "data": {
      "text/plain": [
       "<function matplotlib.pyplot.show(close=None, block=None)>"
      ]
     },
     "execution_count": 59,
     "metadata": {},
     "output_type": "execute_result"
    },
    {
     "data": {
      "image/png": "[encoded data removed]",
      "text/plain": [
       "<Figure size 1584x504 with 2 Axes>"
      ]
     },
     "metadata": {
      "needs_background": "light"
     },
     "output_type": "display_data"
    }
   ],
   "source": [
    "plt.figure(figsize=(22,7))\n",
    "sns.heatmap(df.corr(),annot=True,linewidth=0.1,linecolor='black', fmt='0.2f')\n",
    "plt.show"
   ]
  },
  {
   "cell_type": "code",
   "execution_count": 62,
   "id": "f74fa49e",
   "metadata": {
    "scrolled": true
   },
   "outputs": [
    {
     "data": {
      "text/plain": [
       "region     -0.006208\n",
       "sex         0.057292\n",
       "children    0.067998\n",
       "bmi         0.198341\n",
       "age         0.299008\n",
       "smoker      0.787251\n",
       "charges     1.000000\n",
       "Name: charges, dtype: float64"
      ]
     },
     "execution_count": 62,
     "metadata": {},
     "output_type": "execute_result"
    }
   ],
   "source": [
    "df.corr()['charges'].sort_values()"
   ]
  },
  {
   "cell_type": "raw",
   "id": "838fa079",
   "metadata": {},
   "source": [
    "##smoker is have corr of 78%, charges is having corr of 29%, bmi is having 19%\n"
   ]
  },
  {
   "cell_type": "code",
   "execution_count": 67,
   "id": "ee3927e0",
   "metadata": {},
   "outputs": [
    {
     "data": {
      "image/png": "[encoded data removed]",
      "text/plain": [
       "<Figure size 1584x504 with 1 Axes>"
      ]
     },
     "metadata": {
      "needs_background": "light"
     },
     "output_type": "display_data"
    }
   ],
   "source": [
    "plt.figure(figsize=(22,7))\n",
    "df.corr()['charges'].sort_values(ascending=False).drop(['charges']).plot(kind='bar',color='c')\n",
    "plt.xlabel('Feature',fontsize=14)\n",
    "plt.ylabel('column with target', fontsize=14)\n",
    "plt.title('Correlation', fontsize=18)\n",
    "plt.show()"
   ]
  },
  {
   "cell_type": "raw",
   "id": "bec9170f",
   "metadata": {},
   "source": [
    "## per the observation smoker is having very strong corr of 78%"
   ]
  },
  {
   "cell_type": "code",
   "execution_count": 69,
   "id": "51237b84",
   "metadata": {},
   "outputs": [
    {
     "data": {
      "text/plain": [
       "age         0.055673\n",
       "sex        -0.020951\n",
       "bmi         0.284047\n",
       "children    0.938380\n",
       "smoker      1.464766\n",
       "region     -0.038101\n",
       "charges     1.515880\n",
       "dtype: float64"
      ]
     },
     "execution_count": 69,
     "metadata": {},
     "output_type": "execute_result"
    }
   ],
   "source": [
    "df.skew()"
   ]
  },
  {
   "cell_type": "raw",
   "id": "c62db6c5",
   "metadata": {},
   "source": [
    "## keeping +/-.05 as the range of skewness, here no column has skewness will not treat them"
   ]
  },
  {
   "cell_type": "raw",
   "id": "e1804254",
   "metadata": {},
   "source": [
    "## Cheking for Outlier "
   ]
  },
  {
   "cell_type": "code",
   "execution_count": 70,
   "id": "9ff24e69",
   "metadata": {},
   "outputs": [
    {
     "data": {
      "text/plain": [
       "age           int64\n",
       "sex         float64\n",
       "bmi         float64\n",
       "children      int64\n",
       "smoker      float64\n",
       "region      float64\n",
       "charges     float64\n",
       "dtype: object"
      ]
     },
     "execution_count": 70,
     "metadata": {},
     "output_type": "execute_result"
    }
   ],
   "source": [
    "df.dtypes"
   ]
  },
  {
   "cell_type": "raw",
   "id": "2a68ecf3",
   "metadata": {},
   "source": [
    "## checking the outlier int nd float data types"
   ]
  },
  {
   "cell_type": "code",
   "execution_count": 75,
   "id": "739e6cad",
   "metadata": {},
   "outputs": [
    {
     "data": {
      "text/plain": [
       "<AxesSubplot:>"
      ]
     },
     "execution_count": 75,
     "metadata": {},
     "output_type": "execute_result"
    },
    {
     "data": {
      "image/png": "[encoded data removed]",
      "text/plain": [
       "<Figure size 432x288 with 1 Axes>"
      ]
     },
     "metadata": {
      "needs_background": "light"
     },
     "output_type": "display_data"
    }
   ],
   "source": [
    "df['age'].plot.box()"
   ]
  },
  {
   "cell_type": "raw",
   "id": "9a671fbc",
   "metadata": {},
   "source": [
    "## no outlier present in age column"
   ]
  },
  {
   "cell_type": "code",
   "execution_count": 76,
   "id": "fecc949d",
   "metadata": {},
   "outputs": [
    {
     "data": {
      "text/plain": [
       "<AxesSubplot:>"
      ]
     },
     "execution_count": 76,
     "metadata": {},
     "output_type": "execute_result"
    },
    {
     "data": {
      "image/png": "[encoded data removed]",
      "text/plain": [
       "<Figure size 432x288 with 1 Axes>"
      ]
     },
     "metadata": {
      "needs_background": "light"
     },
     "output_type": "display_data"
    }
   ],
   "source": [
    "df['children'].plot.box()"
   ]
  },
  {
   "cell_type": "raw",
   "id": "9dcfc02e",
   "metadata": {},
   "source": [
    "## no outlier present in children column"
   ]
  },
  {
   "cell_type": "code",
   "execution_count": 77,
   "id": "9aa2c856",
   "metadata": {},
   "outputs": [
    {
     "data": {
      "text/plain": [
       "<AxesSubplot:>"
      ]
     },
     "execution_count": 77,
     "metadata": {},
     "output_type": "execute_result"
    },
    {
     "data": {
      "image/png": "[encoded data removed]",
      "text/plain": [
       "<Figure size 432x288 with 1 Axes>"
      ]
     },
     "metadata": {
      "needs_background": "light"
     },
     "output_type": "display_data"
    }
   ],
   "source": [
    "df['sex'].plot.box()"
   ]
  },
  {
   "cell_type": "raw",
   "id": "beaed0f2",
   "metadata": {},
   "source": [
    "## no outlier present in sex column"
   ]
  },
  {
   "cell_type": "code",
   "execution_count": 78,
   "id": "06bfec80",
   "metadata": {},
   "outputs": [
    {
     "data": {
      "text/plain": [
       "<AxesSubplot:>"
      ]
     },
     "execution_count": 78,
     "metadata": {},
     "output_type": "execute_result"
    },
    {
     "data": {
      "image/png": "[encoded data removed]",
      "text/plain": [
       "<Figure size 432x288 with 1 Axes>"
      ]
     },
     "metadata": {
      "needs_background": "light"
     },
     "output_type": "display_data"
    }
   ],
   "source": [
    "df['bmi'].plot.box()"
   ]
  },
  {
   "cell_type": "raw",
   "id": "34581b14",
   "metadata": {},
   "source": [
    "##  outlier present in bmi column"
   ]
  },
  {
   "cell_type": "code",
   "execution_count": 79,
   "id": "fe24ad11",
   "metadata": {},
   "outputs": [
    {
     "data": {
      "text/plain": [
       "<AxesSubplot:>"
      ]
     },
     "execution_count": 79,
     "metadata": {},
     "output_type": "execute_result"
    },
    {
     "data": {
      "image/png": "[encoded data removed]",
      "text/plain": [
       "<Figure size 432x288 with 1 Axes>"
      ]
     },
     "metadata": {
      "needs_background": "light"
     },
     "output_type": "display_data"
    }
   ],
   "source": [
    "df['region'].plot.box()"
   ]
  },
  {
   "cell_type": "raw",
   "id": "9d5e9c19",
   "metadata": {},
   "source": [
    "## no outlier present in region column"
   ]
  },
  {
   "cell_type": "code",
   "execution_count": 80,
   "id": "c999cb8e",
   "metadata": {},
   "outputs": [
    {
     "data": {
      "text/plain": [
       "<AxesSubplot:>"
      ]
     },
     "execution_count": 80,
     "metadata": {},
     "output_type": "execute_result"
    },
    {
     "data": {
      "image/png": "[encoded data removed]",
      "text/plain": [
       "<Figure size 432x288 with 1 Axes>"
      ]
     },
     "metadata": {
      "needs_background": "light"
     },
     "output_type": "display_data"
    }
   ],
   "source": [
    "df['smoker'].plot.box()"
   ]
  },
  {
   "cell_type": "raw",
   "id": "9abf7b35",
   "metadata": {},
   "source": [
    "##  outlier present in smoker column"
   ]
  },
  {
   "cell_type": "code",
   "execution_count": 81,
   "id": "acd1f1de",
   "metadata": {
    "scrolled": true
   },
   "outputs": [
    {
     "data": {
      "text/plain": [
       "<AxesSubplot:>"
      ]
     },
     "execution_count": 81,
     "metadata": {},
     "output_type": "execute_result"
    },
    {
     "data": {
      "image/png": "[encoded data removed]",
      "text/plain": [
       "<Figure size 432x288 with 1 Axes>"
      ]
     },
     "metadata": {
      "needs_background": "light"
     },
     "output_type": "display_data"
    }
   ],
   "source": [
    "df['charges'].plot.box()"
   ]
  },
  {
   "cell_type": "raw",
   "id": "d08d5d2e",
   "metadata": {},
   "source": [
    "##  outlier present in charges column"
   ]
  },
  {
   "cell_type": "raw",
   "id": "58fe2512",
   "metadata": {},
   "source": [
    "## removal of outlier "
   ]
  },
  {
   "cell_type": "code",
   "execution_count": 204,
   "id": "40f03651",
   "metadata": {},
   "outputs": [
    {
     "data": {
      "text/plain": [
       "(array([  32,   34,   71,  116,  166,  413,  425,  438,  543,  568,  577,\n",
       "         640,  819,  847,  877,  932,  937,  969,  984, 1047, 1085, 1116,\n",
       "        1130, 1146, 1230, 1245, 1272, 1300, 1317], dtype=int64),\n",
       " array([3, 6, 3, 2, 3, 3, 3, 3, 6, 3, 6, 3, 6, 2, 3, 3, 3, 3, 3, 2, 3, 3,\n",
       "        3, 6, 6, 3, 3, 6, 2], dtype=int64))"
      ]
     },
     "execution_count": 204,
     "metadata": {},
     "output_type": "execute_result"
    }
   ],
   "source": [
    "from scipy.stats import zscore\n",
    "z=np.abs(zscore(df))\n",
    "threshold=3\n",
    "np.where(z>3)\n"
   ]
  },
  {
   "cell_type": "code",
   "execution_count": 205,
   "id": "9b6a8653",
   "metadata": {},
   "outputs": [
    {
     "data": {
      "text/html": [
       "<div>\n",
       "<style scoped>\n",
       "    .dataframe tbody tr th:only-of-type {\n",
       "        vertical-align: middle;\n",
       "    }\n",
       "\n",
       "    .dataframe tbody tr th {\n",
       "        vertical-align: top;\n",
       "    }\n",
       "\n",
       "    .dataframe thead th {\n",
       "        text-align: right;\n",
       "    }\n",
       "</style>\n",
       "<table border=\"1\" class=\"dataframe\">\n",
       "  <thead>\n",
       "    <tr style=\"text-align: right;\">\n",
       "      <th></th>\n",
       "      <th>age</th>\n",
       "      <th>sex</th>\n",
       "      <th>bmi</th>\n",
       "      <th>children</th>\n",
       "      <th>smoker</th>\n",
       "      <th>region</th>\n",
       "      <th>charges</th>\n",
       "    </tr>\n",
       "  </thead>\n",
       "  <tbody>\n",
       "    <tr>\n",
       "      <th>0</th>\n",
       "      <td>19</td>\n",
       "      <td>0.0</td>\n",
       "      <td>27.900</td>\n",
       "      <td>0</td>\n",
       "      <td>1.0</td>\n",
       "      <td>3.0</td>\n",
       "      <td>16884.92400</td>\n",
       "    </tr>\n",
       "    <tr>\n",
       "      <th>1</th>\n",
       "      <td>18</td>\n",
       "      <td>1.0</td>\n",
       "      <td>33.770</td>\n",
       "      <td>1</td>\n",
       "      <td>0.0</td>\n",
       "      <td>2.0</td>\n",
       "      <td>1725.55230</td>\n",
       "    </tr>\n",
       "    <tr>\n",
       "      <th>2</th>\n",
       "      <td>28</td>\n",
       "      <td>1.0</td>\n",
       "      <td>33.000</td>\n",
       "      <td>3</td>\n",
       "      <td>0.0</td>\n",
       "      <td>2.0</td>\n",
       "      <td>4449.46200</td>\n",
       "    </tr>\n",
       "    <tr>\n",
       "      <th>3</th>\n",
       "      <td>33</td>\n",
       "      <td>1.0</td>\n",
       "      <td>22.705</td>\n",
       "      <td>0</td>\n",
       "      <td>0.0</td>\n",
       "      <td>1.0</td>\n",
       "      <td>21984.47061</td>\n",
       "    </tr>\n",
       "    <tr>\n",
       "      <th>4</th>\n",
       "      <td>32</td>\n",
       "      <td>1.0</td>\n",
       "      <td>28.880</td>\n",
       "      <td>0</td>\n",
       "      <td>0.0</td>\n",
       "      <td>1.0</td>\n",
       "      <td>3866.85520</td>\n",
       "    </tr>\n",
       "    <tr>\n",
       "      <th>...</th>\n",
       "      <td>...</td>\n",
       "      <td>...</td>\n",
       "      <td>...</td>\n",
       "      <td>...</td>\n",
       "      <td>...</td>\n",
       "      <td>...</td>\n",
       "      <td>...</td>\n",
       "    </tr>\n",
       "    <tr>\n",
       "      <th>1333</th>\n",
       "      <td>50</td>\n",
       "      <td>1.0</td>\n",
       "      <td>30.970</td>\n",
       "      <td>3</td>\n",
       "      <td>0.0</td>\n",
       "      <td>1.0</td>\n",
       "      <td>10600.54830</td>\n",
       "    </tr>\n",
       "    <tr>\n",
       "      <th>1334</th>\n",
       "      <td>18</td>\n",
       "      <td>0.0</td>\n",
       "      <td>31.920</td>\n",
       "      <td>0</td>\n",
       "      <td>0.0</td>\n",
       "      <td>0.0</td>\n",
       "      <td>2205.98080</td>\n",
       "    </tr>\n",
       "    <tr>\n",
       "      <th>1335</th>\n",
       "      <td>18</td>\n",
       "      <td>0.0</td>\n",
       "      <td>36.850</td>\n",
       "      <td>0</td>\n",
       "      <td>0.0</td>\n",
       "      <td>2.0</td>\n",
       "      <td>1629.83350</td>\n",
       "    </tr>\n",
       "    <tr>\n",
       "      <th>1336</th>\n",
       "      <td>21</td>\n",
       "      <td>0.0</td>\n",
       "      <td>25.800</td>\n",
       "      <td>0</td>\n",
       "      <td>0.0</td>\n",
       "      <td>3.0</td>\n",
       "      <td>2007.94500</td>\n",
       "    </tr>\n",
       "    <tr>\n",
       "      <th>1337</th>\n",
       "      <td>61</td>\n",
       "      <td>0.0</td>\n",
       "      <td>29.070</td>\n",
       "      <td>0</td>\n",
       "      <td>1.0</td>\n",
       "      <td>1.0</td>\n",
       "      <td>29141.36030</td>\n",
       "    </tr>\n",
       "  </tbody>\n",
       "</table>\n",
       "<p>1309 rows × 7 columns</p>\n",
       "</div>"
      ],
      "text/plain": [
       "      age  sex     bmi  children  smoker  region      charges\n",
       "0      19  0.0  27.900         0     1.0     3.0  16884.92400\n",
       "1      18  1.0  33.770         1     0.0     2.0   1725.55230\n",
       "2      28  1.0  33.000         3     0.0     2.0   4449.46200\n",
       "3      33  1.0  22.705         0     0.0     1.0  21984.47061\n",
       "4      32  1.0  28.880         0     0.0     1.0   3866.85520\n",
       "...   ...  ...     ...       ...     ...     ...          ...\n",
       "1333   50  1.0  30.970         3     0.0     1.0  10600.54830\n",
       "1334   18  0.0  31.920         0     0.0     0.0   2205.98080\n",
       "1335   18  0.0  36.850         0     0.0     2.0   1629.83350\n",
       "1336   21  0.0  25.800         0     0.0     3.0   2007.94500\n",
       "1337   61  0.0  29.070         0     1.0     1.0  29141.36030\n",
       "\n",
       "[1309 rows x 7 columns]"
      ]
     },
     "execution_count": 205,
     "metadata": {},
     "output_type": "execute_result"
    }
   ],
   "source": [
    "df_new_z=df[(z<3).all(axis=1)]\n",
    "df_new_z"
   ]
  },
  {
   "cell_type": "code",
   "execution_count": 206,
   "id": "9094acc1",
   "metadata": {},
   "outputs": [
    {
     "data": {
      "text/plain": [
       "(1309, 7)"
      ]
     },
     "execution_count": 206,
     "metadata": {},
     "output_type": "execute_result"
    }
   ],
   "source": [
    "df_new_z.shape"
   ]
  },
  {
   "cell_type": "code",
   "execution_count": 207,
   "id": "329c110e",
   "metadata": {},
   "outputs": [
    {
     "data": {
      "text/plain": [
       "(1338, 7)"
      ]
     },
     "execution_count": 207,
     "metadata": {},
     "output_type": "execute_result"
    }
   ],
   "source": [
    "df.shape"
   ]
  },
  {
   "cell_type": "code",
   "execution_count": 208,
   "id": "ca99c535",
   "metadata": {},
   "outputs": [
    {
     "data": {
      "text/plain": [
       "2.167414050822123"
      ]
     },
     "execution_count": 208,
     "metadata": {},
     "output_type": "execute_result"
    }
   ],
   "source": [
    "data_loss=((1338-1309)/1338)*100\n",
    "data_loss"
   ]
  },
  {
   "cell_type": "raw",
   "id": "dca6b13c",
   "metadata": {},
   "source": [
    "data loss is very less that is 2.16%"
   ]
  },
  {
   "cell_type": "raw",
   "id": "22f8db2d",
   "metadata": {},
   "source": [
    "##Separating the column into feature and target "
   ]
  },
  {
   "cell_type": "code",
   "execution_count": 209,
   "id": "5a1b271c",
   "metadata": {},
   "outputs": [],
   "source": [
    "y=df['charges']\n",
    "x=df.drop('charges',axis=1)"
   ]
  },
  {
   "cell_type": "code",
   "execution_count": 210,
   "id": "b889c7e3",
   "metadata": {},
   "outputs": [],
   "source": [
    "from sklearn.metrics import accuracy_score, confusion_matrix, roc_curve, roc_auc_score, classification_report\n",
    "from sklearn.metrics import r2_score\n",
    "import warnings\n",
    "warnings.filterwarnings(\"ignore\")"
   ]
  },
  {
   "cell_type": "raw",
   "id": "d78ead90",
   "metadata": {},
   "source": [
    "Scaling methods\n",
    "##Difine a function to check the accuracy value"
   ]
  },
  {
   "cell_type": "code",
   "execution_count": 211,
   "id": "7e19dfe5",
   "metadata": {},
   "outputs": [
    {
     "name": "stdout",
     "output_type": "stream",
     "text": [
      "at random_state0, the training accuracy is :-0.7368306228430945\n",
      "at random_state0, the testing accuracy is :-0.7998747145449959\n",
      "\n",
      "\n",
      "at random_state1, the training accuracy is :-0.7475615631933097\n",
      "at random_state1, the testing accuracy is :-0.7623224022563388\n",
      "\n",
      "\n",
      "at random_state2, the training accuracy is :-0.7519923667088932\n",
      "at random_state2, the testing accuracy is :-0.7445422986536503\n",
      "\n",
      "\n",
      "at random_state3, the training accuracy is :-0.7530732192579027\n",
      "at random_state3, the testing accuracy is :-0.7406256738597918\n",
      "\n",
      "\n",
      "at random_state4, the training accuracy is :-0.7605730367332922\n",
      "at random_state4, the testing accuracy is :-0.6970099489172213\n",
      "\n",
      "\n",
      "at random_state5, the training accuracy is :-0.742751800397326\n",
      "at random_state5, the testing accuracy is :-0.7790865933969187\n",
      "\n",
      "\n",
      "at random_state6, the training accuracy is :-0.7433828393740967\n",
      "at random_state6, the testing accuracy is :-0.7785295914318422\n",
      "\n",
      "\n",
      "at random_state7, the training accuracy is :-0.7465780121439667\n",
      "at random_state7, the testing accuracy is :-0.7644939656224732\n",
      "\n",
      "\n",
      "at random_state8, the training accuracy is :-0.7557745757308062\n",
      "at random_state8, the testing accuracy is :-0.7250569658128251\n",
      "\n",
      "\n",
      "at random_state9, the training accuracy is :-0.7440253259062533\n",
      "at random_state9, the testing accuracy is :-0.7778683760574732\n",
      "\n",
      "\n",
      "at random_state10, the training accuracy is :-0.7633895728397835\n",
      "at random_state10, the testing accuracy is :-0.6957010622294884\n",
      "\n",
      "\n",
      "at random_state11, the training accuracy is :-0.7388805137721672\n",
      "at random_state11, the testing accuracy is :-0.7993819717035826\n",
      "\n",
      "\n",
      "at random_state12, the training accuracy is :-0.7604261748179022\n",
      "at random_state12, the testing accuracy is :-0.7096380405273459\n",
      "\n",
      "\n",
      "at random_state13, the training accuracy is :-0.7383786360613591\n",
      "at random_state13, the testing accuracy is :-0.7989255552370542\n",
      "\n",
      "\n",
      "at random_state14, the training accuracy is :-0.7556143184371016\n",
      "at random_state14, the testing accuracy is :-0.7294640312702891\n",
      "\n",
      "\n",
      "at random_state15, the training accuracy is :-0.7453571898194261\n",
      "at random_state15, the testing accuracy is :-0.7708744759820261\n",
      "\n",
      "\n",
      "at random_state16, the training accuracy is :-0.7602477361178249\n",
      "at random_state16, the testing accuracy is :-0.7075292952600163\n",
      "\n",
      "\n",
      "at random_state17, the training accuracy is :-0.7517330722141086\n",
      "at random_state17, the testing accuracy is :-0.7342745730232991\n",
      "\n",
      "\n",
      "at random_state18, the training accuracy is :-0.7460120119488914\n",
      "at random_state18, the testing accuracy is :-0.765581674849249\n",
      "\n",
      "\n",
      "at random_state19, the training accuracy is :-0.7512325193618925\n",
      "at random_state19, the testing accuracy is :-0.7455822176310462\n",
      "\n",
      "\n",
      "at random_state20, the training accuracy is :-0.7386289022941568\n",
      "at random_state20, the testing accuracy is :-0.7960709949046044\n",
      "\n",
      "\n",
      "at random_state21, the training accuracy is :-0.7540223665040874\n",
      "at random_state21, the testing accuracy is :-0.734813681387789\n",
      "\n",
      "\n",
      "at random_state22, the training accuracy is :-0.7486056463218349\n",
      "at random_state22, the testing accuracy is :-0.7577242096466302\n",
      "\n",
      "\n",
      "at random_state23, the training accuracy is :-0.7492626993312902\n",
      "at random_state23, the testing accuracy is :-0.7531430170965645\n",
      "\n",
      "\n",
      "at random_state24, the training accuracy is :-0.7434426964668961\n",
      "at random_state24, the testing accuracy is :-0.7765389470136033\n",
      "\n",
      "\n",
      "at random_state25, the training accuracy is :-0.7483825584860884\n",
      "at random_state25, the testing accuracy is :-0.7575797365475682\n",
      "\n",
      "\n",
      "at random_state26, the training accuracy is :-0.7545580731074576\n",
      "at random_state26, the testing accuracy is :-0.7344939925387854\n",
      "\n",
      "\n",
      "at random_state27, the training accuracy is :-0.7551917365151264\n",
      "at random_state27, the testing accuracy is :-0.7315462085856306\n",
      "\n",
      "\n",
      "at random_state28, the training accuracy is :-0.7605090731839346\n",
      "at random_state28, the testing accuracy is :-0.6955075965076162\n",
      "\n",
      "\n",
      "at random_state29, the training accuracy is :-0.7604622263925518\n",
      "at random_state29, the testing accuracy is :-0.7105443958312564\n",
      "\n",
      "\n",
      "at random_state30, the training accuracy is :-0.7475092736880848\n",
      "at random_state30, the testing accuracy is :-0.7602344599010098\n",
      "\n",
      "\n",
      "at random_state31, the training accuracy is :-0.7602789566363606\n",
      "at random_state31, the testing accuracy is :-0.7062272358690906\n",
      "\n",
      "\n",
      "at random_state32, the training accuracy is :-0.7435673740197568\n",
      "at random_state32, the testing accuracy is :-0.7814888546122387\n",
      "\n",
      "\n",
      "at random_state33, the training accuracy is :-0.7603319655217646\n",
      "at random_state33, the testing accuracy is :-0.7013125618353473\n",
      "\n",
      "\n",
      "at random_state34, the training accuracy is :-0.7514552383513079\n",
      "at random_state34, the testing accuracy is :-0.7461578203319277\n",
      "\n",
      "\n",
      "at random_state35, the training accuracy is :-0.7581326425332305\n",
      "at random_state35, the testing accuracy is :-0.7211174878662856\n",
      "\n",
      "\n",
      "at random_state36, the training accuracy is :-0.749732808987505\n",
      "at random_state36, the testing accuracy is :-0.753346336323621\n",
      "\n",
      "\n",
      "at random_state37, the training accuracy is :-0.7561351921741966\n",
      "at random_state37, the testing accuracy is :-0.718170854798325\n",
      "\n",
      "\n",
      "at random_state38, the training accuracy is :-0.7588520367938932\n",
      "at random_state38, the testing accuracy is :-0.7093731922382558\n",
      "\n",
      "\n",
      "at random_state39, the training accuracy is :-0.7508748832841629\n",
      "at random_state39, the testing accuracy is :-0.749426988428108\n",
      "\n",
      "\n",
      "at random_state40, the training accuracy is :-0.7547854301573506\n",
      "at random_state40, the testing accuracy is :-0.7340463835777766\n",
      "\n",
      "\n",
      "at random_state41, the training accuracy is :-0.7616269427107935\n",
      "at random_state41, the testing accuracy is :-0.6848317051895286\n",
      "\n",
      "\n",
      "at random_state42, the training accuracy is :-0.7417049283233981\n",
      "at random_state42, the testing accuracy is :-0.7833463107364539\n",
      "\n",
      "\n",
      "at random_state43, the training accuracy is :-0.7635858928710806\n",
      "at random_state43, the testing accuracy is :-0.6939736014653857\n",
      "\n",
      "\n",
      "at random_state44, the training accuracy is :-0.7497846167934157\n",
      "at random_state44, the testing accuracy is :-0.7541477784775991\n",
      "\n",
      "\n",
      "at random_state45, the training accuracy is :-0.7603656534083785\n",
      "at random_state45, the testing accuracy is :-0.7035989194448834\n",
      "\n",
      "\n",
      "at random_state46, the training accuracy is :-0.7460771715046237\n",
      "at random_state46, the testing accuracy is :-0.7667175533084113\n",
      "\n",
      "\n",
      "at random_state47, the training accuracy is :-0.7376059448076364\n",
      "at random_state47, the testing accuracy is :-0.7993958934706319\n",
      "\n",
      "\n",
      "at random_state48, the training accuracy is :-0.7488977809712661\n",
      "at random_state48, the testing accuracy is :-0.7536026231469952\n",
      "\n",
      "\n",
      "at random_state49, the training accuracy is :-0.7457456697513021\n",
      "at random_state49, the testing accuracy is :-0.7679224122971995\n",
      "\n",
      "\n",
      "at random_state50, the training accuracy is :-0.7399254680443018\n",
      "at random_state50, the testing accuracy is :-0.7866124253214011\n",
      "\n",
      "\n",
      "at random_state51, the training accuracy is :-0.7505617340307456\n",
      "at random_state51, the testing accuracy is :-0.7493031580280478\n",
      "\n",
      "\n",
      "at random_state52, the training accuracy is :-0.7623014239800219\n",
      "at random_state52, the testing accuracy is :-0.6918453278527021\n",
      "\n",
      "\n",
      "at random_state53, the training accuracy is :-0.7441831196835345\n",
      "at random_state53, the testing accuracy is :-0.7730411118060608\n",
      "\n",
      "\n",
      "at random_state54, the training accuracy is :-0.7706010644524729\n",
      "at random_state54, the testing accuracy is :-0.6551659717360774\n",
      "\n",
      "\n",
      "at random_state55, the training accuracy is :-0.762960944203996\n",
      "at random_state55, the testing accuracy is :-0.690682695630576\n",
      "\n",
      "\n",
      "at random_state56, the training accuracy is :-0.7581157148587996\n",
      "at random_state56, the testing accuracy is :-0.7099514097663597\n",
      "\n",
      "\n",
      "at random_state57, the training accuracy is :-0.7438047542195427\n",
      "at random_state57, the testing accuracy is :-0.7766936418255062\n",
      "\n",
      "\n",
      "at random_state58, the training accuracy is :-0.7501776510943658\n",
      "at random_state58, the testing accuracy is :-0.7519853968945414\n",
      "\n",
      "\n",
      "at random_state59, the training accuracy is :-0.7363472914535547\n",
      "at random_state59, the testing accuracy is :-0.7964661633827786\n",
      "\n",
      "\n",
      "at random_state60, the training accuracy is :-0.7669701456826975\n",
      "at random_state60, the testing accuracy is :-0.6714775133378287\n",
      "\n",
      "\n",
      "at random_state61, the training accuracy is :-0.7563593030679042\n",
      "at random_state61, the testing accuracy is :-0.728669376864955\n",
      "\n",
      "\n",
      "at random_state62, the training accuracy is :-0.7615423338399943\n",
      "at random_state62, the testing accuracy is :-0.6848537585752448\n",
      "\n",
      "\n",
      "at random_state63, the training accuracy is :-0.7544272772501068\n",
      "at random_state63, the testing accuracy is :-0.7312189817356336\n",
      "\n",
      "\n",
      "at random_state64, the training accuracy is :-0.7475680543111896\n",
      "at random_state64, the testing accuracy is :-0.7622508746121971\n",
      "\n",
      "\n",
      "at random_state65, the training accuracy is :-0.7563285989349713\n",
      "at random_state65, the testing accuracy is :-0.7282324880167024\n",
      "\n",
      "\n",
      "at random_state66, the training accuracy is :-0.7423646826933215\n",
      "at random_state66, the testing accuracy is :-0.7782910086637808\n",
      "\n",
      "\n",
      "at random_state67, the training accuracy is :-0.7519918133290118\n",
      "at random_state67, the testing accuracy is :-0.7428805437507751\n",
      "\n",
      "\n",
      "at random_state68, the training accuracy is :-0.7459077579017989\n",
      "at random_state68, the testing accuracy is :-0.7688184963140624\n",
      "\n",
      "\n",
      "at random_state69, the training accuracy is :-0.7512896932167122\n",
      "at random_state69, the testing accuracy is :-0.7437936173365165\n",
      "\n",
      "\n",
      "at random_state70, the training accuracy is :-0.7673586286895642\n",
      "at random_state70, the testing accuracy is :-0.6732398081392252\n",
      "\n",
      "\n",
      "at random_state71, the training accuracy is :-0.7496534640606042\n",
      "at random_state71, the testing accuracy is :-0.7523890751423534\n",
      "\n",
      "\n",
      "at random_state72, the training accuracy is :-0.7533130837051747\n",
      "at random_state72, the testing accuracy is :-0.7372940561367096\n",
      "\n",
      "\n",
      "at random_state73, the training accuracy is :-0.7600276697017112\n",
      "at random_state73, the testing accuracy is :-0.7125501410188311\n",
      "\n",
      "\n",
      "at random_state74, the training accuracy is :-0.7552340269469757\n",
      "at random_state74, the testing accuracy is :-0.7321129831800581\n",
      "\n",
      "\n",
      "at random_state75, the training accuracy is :-0.7475842998873623\n",
      "at random_state75, the testing accuracy is :-0.7640309975597734\n",
      "\n",
      "\n",
      "at random_state76, the training accuracy is :-0.7481202170717707\n",
      "at random_state76, the testing accuracy is :-0.760501643463455\n",
      "\n",
      "\n",
      "at random_state77, the training accuracy is :-0.7509948897872426\n",
      "at random_state77, the testing accuracy is :-0.7478473353232034\n",
      "\n",
      "\n",
      "at random_state78, the training accuracy is :-0.7546801388870505\n",
      "at random_state78, the testing accuracy is :-0.7324169810915189\n",
      "\n",
      "\n",
      "at random_state79, the training accuracy is :-0.7527798570164209\n",
      "at random_state79, the testing accuracy is :-0.7400442323761764\n",
      "\n",
      "\n",
      "at random_state80, the training accuracy is :-0.7505199633940698\n",
      "at random_state80, the testing accuracy is :-0.748979382463947\n",
      "\n",
      "\n",
      "at random_state81, the training accuracy is :-0.7570737755872579\n",
      "at random_state81, the testing accuracy is :-0.7232829268798442\n",
      "\n",
      "\n",
      "at random_state82, the training accuracy is :-0.7496327821483186\n",
      "at random_state82, the testing accuracy is :-0.7534198474655438\n",
      "\n",
      "\n",
      "at random_state83, the training accuracy is :-0.746758048486181\n",
      "at random_state83, the testing accuracy is :-0.7628272181176492\n",
      "\n",
      "\n",
      "at random_state84, the training accuracy is :-0.746073285282064\n",
      "at random_state84, the testing accuracy is :-0.7699277885255036\n",
      "\n",
      "\n",
      "at random_state85, the training accuracy is :-0.7572379942550617\n",
      "at random_state85, the testing accuracy is :-0.7227040105532093\n",
      "\n",
      "\n",
      "at random_state86, the training accuracy is :-0.7422057657651393\n",
      "at random_state86, the testing accuracy is :-0.7817077229375042\n",
      "\n",
      "\n",
      "at random_state87, the training accuracy is :-0.757085792537717\n",
      "at random_state87, the testing accuracy is :-0.7135061029156816\n",
      "\n",
      "\n",
      "at random_state88, the training accuracy is :-0.7439146059211437\n",
      "at random_state88, the testing accuracy is :-0.7711896639590572\n",
      "\n",
      "\n",
      "at random_state89, the training accuracy is :-0.7382181575577365\n",
      "at random_state89, the testing accuracy is :-0.782454191154507\n",
      "\n",
      "\n",
      "at random_state90, the training accuracy is :-0.751465764308034\n",
      "at random_state90, the testing accuracy is :-0.7445994293170439\n",
      "\n",
      "\n",
      "at random_state91, the training accuracy is :-0.750672686827808\n",
      "at random_state91, the testing accuracy is :-0.7478508258644074\n",
      "\n",
      "\n",
      "at random_state92, the training accuracy is :-0.7467253477161023\n",
      "at random_state92, the testing accuracy is :-0.7586467749339764\n",
      "\n",
      "\n",
      "at random_state93, the training accuracy is :-0.7462433503998611\n",
      "at random_state93, the testing accuracy is :-0.767474323309468\n",
      "\n",
      "\n",
      "at random_state94, the training accuracy is :-0.7463452106894661\n",
      "at random_state94, the testing accuracy is :-0.7682637208176768\n",
      "\n",
      "\n",
      "at random_state95, the training accuracy is :-0.7436639441312778\n",
      "at random_state95, the testing accuracy is :-0.7777781737419391\n",
      "\n",
      "\n",
      "at random_state96, the training accuracy is :-0.765494209545505\n",
      "at random_state96, the testing accuracy is :-0.6676790449729348\n",
      "\n",
      "\n",
      "at random_state97, the training accuracy is :-0.7597597051476686\n",
      "at random_state97, the testing accuracy is :-0.7112254059470214\n",
      "\n",
      "\n",
      "at random_state98, the training accuracy is :-0.7539174248174374\n",
      "at random_state98, the testing accuracy is :-0.7360534169887039\n",
      "\n",
      "\n",
      "at random_state99, the training accuracy is :-0.7521877761879817\n",
      "at random_state99, the testing accuracy is :-0.7406856516523257\n",
      "\n",
      "\n"
     ]
    }
   ],
   "source": [
    "for i in range(0,100):\n",
    "    x_train, x_test, y_train, y_test= train_test_split(x, y, test_size=0.20, random_state= i)\n",
    "    lr.fit(x_train,y_train)\n",
    "    pred_train=lr.predict(x_train)\n",
    "    pred_test=lr.predict(x_test)\n",
    "    print(f\"at random_state{i}, the training accuracy is :-{r2_score(y_train,pred_train)}\")\n",
    "    print(f\"at random_state{i}, the testing accuracy is :-{r2_score(y_test,pred_test)}\")\n",
    "    print('\\n')"
   ]
  },
  {
   "cell_type": "code",
   "execution_count": 212,
   "id": "4bf8b2e9",
   "metadata": {},
   "outputs": [],
   "source": [
    "x_train, x_test, y_train, y_test= train_test_split(x, y, test_size=0.25, random_state=44)"
   ]
  },
  {
   "cell_type": "raw",
   "id": "14978f5a",
   "metadata": {},
   "source": [
    "##train the model"
   ]
  },
  {
   "cell_type": "code",
   "execution_count": 213,
   "id": "610a4a02",
   "metadata": {},
   "outputs": [
    {
     "data": {
      "text/plain": [
       "LinearRegression()"
      ]
     },
     "execution_count": 213,
     "metadata": {},
     "output_type": "execute_result"
    }
   ],
   "source": [
    "lr.fit(x_train, y_train)"
   ]
  },
  {
   "cell_type": "code",
   "execution_count": 221,
   "id": "f53d30f5",
   "metadata": {},
   "outputs": [],
   "source": [
    "pred_test=lr.predict(x_test)"
   ]
  },
  {
   "cell_type": "code",
   "execution_count": 219,
   "id": "e1f49b37",
   "metadata": {},
   "outputs": [
    {
     "name": "stdout",
     "output_type": "stream",
     "text": [
      "0.7467311941745088\n"
     ]
    }
   ],
   "source": [
    "print(r2_score(y_test,pred_test))"
   ]
  },
  {
   "cell_type": "raw",
   "id": "638ac0f8",
   "metadata": {},
   "source": [
    "## Cross validation of the model"
   ]
  },
  {
   "cell_type": "code",
   "execution_count": 222,
   "id": "1f18cc1b",
   "metadata": {},
   "outputs": [
    {
     "ename": "ValueError",
     "evalue": "Found input variables with inconsistent numbers of samples: [1003, 1070]",
     "output_type": "error",
     "traceback": [
      "\u001b[1;31m---------------------------------------------------------------------------\u001b[0m",
      "\u001b[1;31mValueError\u001b[0m                                Traceback (most recent call last)",
      "Input \u001b[1;32mIn [222]\u001b[0m, in \u001b[0;36m<cell line: 1>\u001b[1;34m()\u001b[0m\n\u001b[1;32m----> 1\u001b[0m train_accuracy\u001b[38;5;241m=\u001b[39m \u001b[43mr2_score\u001b[49m\u001b[43m(\u001b[49m\u001b[43my_train\u001b[49m\u001b[43m,\u001b[49m\u001b[43mpred_train\u001b[49m\u001b[43m)\u001b[49m\n\u001b[0;32m      2\u001b[0m test_accuracy\u001b[38;5;241m=\u001b[39m r2_score(y_test,pred_test)\n",
      "File \u001b[1;32m~\\anaconda3\\lib\\site-packages\\sklearn\\metrics\\_regression.py:789\u001b[0m, in \u001b[0;36mr2_score\u001b[1;34m(y_true, y_pred, sample_weight, multioutput)\u001b[0m\n\u001b[0;32m    702\u001b[0m \u001b[38;5;28;01mdef\u001b[39;00m \u001b[38;5;21mr2_score\u001b[39m(y_true, y_pred, \u001b[38;5;241m*\u001b[39m, sample_weight\u001b[38;5;241m=\u001b[39m\u001b[38;5;28;01mNone\u001b[39;00m, multioutput\u001b[38;5;241m=\u001b[39m\u001b[38;5;124m\"\u001b[39m\u001b[38;5;124muniform_average\u001b[39m\u001b[38;5;124m\"\u001b[39m):\n\u001b[0;32m    703\u001b[0m     \u001b[38;5;124;03m\"\"\":math:`R^2` (coefficient of determination) regression score function.\u001b[39;00m\n\u001b[0;32m    704\u001b[0m \n\u001b[0;32m    705\u001b[0m \u001b[38;5;124;03m    Best possible score is 1.0 and it can be negative (because the\u001b[39;00m\n\u001b[1;32m   (...)\u001b[0m\n\u001b[0;32m    787\u001b[0m \u001b[38;5;124;03m    -3.0\u001b[39;00m\n\u001b[0;32m    788\u001b[0m \u001b[38;5;124;03m    \"\"\"\u001b[39;00m\n\u001b[1;32m--> 789\u001b[0m     y_type, y_true, y_pred, multioutput \u001b[38;5;241m=\u001b[39m \u001b[43m_check_reg_targets\u001b[49m\u001b[43m(\u001b[49m\n\u001b[0;32m    790\u001b[0m \u001b[43m        \u001b[49m\u001b[43my_true\u001b[49m\u001b[43m,\u001b[49m\u001b[43m \u001b[49m\u001b[43my_pred\u001b[49m\u001b[43m,\u001b[49m\u001b[43m \u001b[49m\u001b[43mmultioutput\u001b[49m\n\u001b[0;32m    791\u001b[0m \u001b[43m    \u001b[49m\u001b[43m)\u001b[49m\n\u001b[0;32m    792\u001b[0m     check_consistent_length(y_true, y_pred, sample_weight)\n\u001b[0;32m    794\u001b[0m     \u001b[38;5;28;01mif\u001b[39;00m _num_samples(y_pred) \u001b[38;5;241m<\u001b[39m \u001b[38;5;241m2\u001b[39m:\n",
      "File \u001b[1;32m~\\anaconda3\\lib\\site-packages\\sklearn\\metrics\\_regression.py:94\u001b[0m, in \u001b[0;36m_check_reg_targets\u001b[1;34m(y_true, y_pred, multioutput, dtype)\u001b[0m\n\u001b[0;32m     60\u001b[0m \u001b[38;5;28;01mdef\u001b[39;00m \u001b[38;5;21m_check_reg_targets\u001b[39m(y_true, y_pred, multioutput, dtype\u001b[38;5;241m=\u001b[39m\u001b[38;5;124m\"\u001b[39m\u001b[38;5;124mnumeric\u001b[39m\u001b[38;5;124m\"\u001b[39m):\n\u001b[0;32m     61\u001b[0m     \u001b[38;5;124;03m\"\"\"Check that y_true and y_pred belong to the same regression task.\u001b[39;00m\n\u001b[0;32m     62\u001b[0m \n\u001b[0;32m     63\u001b[0m \u001b[38;5;124;03m    Parameters\u001b[39;00m\n\u001b[1;32m   (...)\u001b[0m\n\u001b[0;32m     92\u001b[0m \u001b[38;5;124;03m        the dtype argument passed to check_array.\u001b[39;00m\n\u001b[0;32m     93\u001b[0m \u001b[38;5;124;03m    \"\"\"\u001b[39;00m\n\u001b[1;32m---> 94\u001b[0m     \u001b[43mcheck_consistent_length\u001b[49m\u001b[43m(\u001b[49m\u001b[43my_true\u001b[49m\u001b[43m,\u001b[49m\u001b[43m \u001b[49m\u001b[43my_pred\u001b[49m\u001b[43m)\u001b[49m\n\u001b[0;32m     95\u001b[0m     y_true \u001b[38;5;241m=\u001b[39m check_array(y_true, ensure_2d\u001b[38;5;241m=\u001b[39m\u001b[38;5;28;01mFalse\u001b[39;00m, dtype\u001b[38;5;241m=\u001b[39mdtype)\n\u001b[0;32m     96\u001b[0m     y_pred \u001b[38;5;241m=\u001b[39m check_array(y_pred, ensure_2d\u001b[38;5;241m=\u001b[39m\u001b[38;5;28;01mFalse\u001b[39;00m, dtype\u001b[38;5;241m=\u001b[39mdtype)\n",
      "File \u001b[1;32m~\\anaconda3\\lib\\site-packages\\sklearn\\utils\\validation.py:332\u001b[0m, in \u001b[0;36mcheck_consistent_length\u001b[1;34m(*arrays)\u001b[0m\n\u001b[0;32m    330\u001b[0m uniques \u001b[38;5;241m=\u001b[39m np\u001b[38;5;241m.\u001b[39munique(lengths)\n\u001b[0;32m    331\u001b[0m \u001b[38;5;28;01mif\u001b[39;00m \u001b[38;5;28mlen\u001b[39m(uniques) \u001b[38;5;241m>\u001b[39m \u001b[38;5;241m1\u001b[39m:\n\u001b[1;32m--> 332\u001b[0m     \u001b[38;5;28;01mraise\u001b[39;00m \u001b[38;5;167;01mValueError\u001b[39;00m(\n\u001b[0;32m    333\u001b[0m         \u001b[38;5;124m\"\u001b[39m\u001b[38;5;124mFound input variables with inconsistent numbers of samples: \u001b[39m\u001b[38;5;132;01m%r\u001b[39;00m\u001b[38;5;124m\"\u001b[39m\n\u001b[0;32m    334\u001b[0m         \u001b[38;5;241m%\u001b[39m [\u001b[38;5;28mint\u001b[39m(l) \u001b[38;5;28;01mfor\u001b[39;00m l \u001b[38;5;129;01min\u001b[39;00m lengths]\n\u001b[0;32m    335\u001b[0m     )\n",
      "\u001b[1;31mValueError\u001b[0m: Found input variables with inconsistent numbers of samples: [1003, 1070]"
     ]
    }
   ],
   "source": [
    "train_accuracy= r2_score(y_train,pred_train)\n",
    "test_accuracy= r2_score(y_test,pred_test)"
   ]
  },
  {
   "cell_type": "code",
   "execution_count": 111,
   "id": "bdd835dd",
   "metadata": {},
   "outputs": [],
   "source": [
    "from sklearn.model_selection import cross_val_score"
   ]
  },
  {
   "cell_type": "code",
   "execution_count": 112,
   "id": "01de4e4f",
   "metadata": {},
   "outputs": [
    {
     "ename": "NameError",
     "evalue": "name 'train_accuracy' is not defined",
     "output_type": "error",
     "traceback": [
      "\u001b[1;31m---------------------------------------------------------------------------\u001b[0m",
      "\u001b[1;31mNameError\u001b[0m                                 Traceback (most recent call last)",
      "Input \u001b[1;32mIn [112]\u001b[0m, in \u001b[0;36m<cell line: 1>\u001b[1;34m()\u001b[0m\n\u001b[0;32m      2\u001b[0m cv_score\u001b[38;5;241m=\u001b[39mcross_val_score(lr, x,y,cv\u001b[38;5;241m=\u001b[39mj)\n\u001b[0;32m      3\u001b[0m cv_mean\u001b[38;5;241m=\u001b[39mcv_score\u001b[38;5;241m.\u001b[39mmean()\n\u001b[1;32m----> 4\u001b[0m \u001b[38;5;28mprint\u001b[39m(\u001b[38;5;124mf\u001b[39m\u001b[38;5;124m\"\u001b[39m\u001b[38;5;124m At cross fold \u001b[39m\u001b[38;5;132;01m{\u001b[39;00mj\u001b[38;5;132;01m}\u001b[39;00m\u001b[38;5;124m the cv score is \u001b[39m\u001b[38;5;132;01m{\u001b[39;00mcv_mean\u001b[38;5;132;01m}\u001b[39;00m\u001b[38;5;124m and accuracy score for train is \u001b[39m\u001b[38;5;132;01m{\u001b[39;00mtrain_accuracy\u001b[38;5;132;01m}\u001b[39;00m\u001b[38;5;124m and accuracy score for test is \u001b[39m\u001b[38;5;132;01m{\u001b[39;00mtest_accuracy\u001b[38;5;132;01m}\u001b[39;00m\u001b[38;5;124m\"\u001b[39m)\n\u001b[0;32m      5\u001b[0m \u001b[38;5;28mprint\u001b[39m(\u001b[38;5;124m'\u001b[39m\u001b[38;5;130;01m\\n\u001b[39;00m\u001b[38;5;124m'\u001b[39m)\n",
      "\u001b[1;31mNameError\u001b[0m: name 'train_accuracy' is not defined"
     ]
    }
   ],
   "source": [
    "for j in (2,10):\n",
    "    cv_score=cross_val_score(lr, x,y,cv=j)\n",
    "    cv_mean=cv_score.mean()\n",
    "    print(f\" At cross fold {j} the cv score is {cv_mean} and accuracy score for train is {train_accuracy} and accuracy score for test is {test_accuracy}\")\n",
    "    print('\\n')"
   ]
  },
  {
   "cell_type": "code",
   "execution_count": 223,
   "id": "99774e4b",
   "metadata": {},
   "outputs": [
    {
     "data": {
      "image/png": "[encoded data removed]",
      "text/plain": [
       "<Figure size 576x432 with 1 Axes>"
      ]
     },
     "metadata": {
      "needs_background": "light"
     },
     "output_type": "display_data"
    }
   ],
   "source": [
    "plt.figure(figsize=(8,6))\n",
    "plt.scatter(x=y_test,y=pred_test,color='r')\n",
    "plt.plot(y_test, y_test, color= 'b')\n",
    "plt.xlabel('Actual score', fontsize=14)\n",
    "plt.ylabel('Predicted score', fontsize=14)\n",
    "plt.title('Linear Regression', fontsize=18)\n",
    "plt.savefig('lr.png')\n",
    "plt.show()"
   ]
  },
  {
   "cell_type": "raw",
   "id": "8a6e2594",
   "metadata": {},
   "source": [
    "## getting good fit line"
   ]
  },
  {
   "cell_type": "raw",
   "id": "4bfd417a",
   "metadata": {},
   "source": [
    "## Regulazation tech"
   ]
  },
  {
   "cell_type": "code",
   "execution_count": 3,
   "id": "b8ffbb61",
   "metadata": {},
   "outputs": [],
   "source": [
    "from sklearn.model_selection import GridSearchCV\n",
    "from sklearn.linear_model import Lasso"
   ]
  },
  {
   "cell_type": "code",
   "execution_count": 4,
   "id": "a8052907",
   "metadata": {},
   "outputs": [
    {
     "ename": "NameError",
     "evalue": "name 'x_train' is not defined",
     "output_type": "error",
     "traceback": [
      "\u001b[1;31m---------------------------------------------------------------------------\u001b[0m",
      "\u001b[1;31mNameError\u001b[0m                                 Traceback (most recent call last)",
      "Input \u001b[1;32mIn [4]\u001b[0m, in \u001b[0;36m<cell line: 4>\u001b[1;34m()\u001b[0m\n\u001b[0;32m      2\u001b[0m ls\u001b[38;5;241m=\u001b[39mLasso()\n\u001b[0;32m      3\u001b[0m clf\u001b[38;5;241m=\u001b[39mGridSearchCV(ls,parameters)\n\u001b[1;32m----> 4\u001b[0m clf\u001b[38;5;241m.\u001b[39mfit(\u001b[43mx_train\u001b[49m,y_train)\n\u001b[0;32m      5\u001b[0m \u001b[38;5;28mprint\u001b[39m(clf\u001b[38;5;241m.\u001b[39mbest_params_)\n",
      "\u001b[1;31mNameError\u001b[0m: name 'x_train' is not defined"
     ]
    }
   ],
   "source": [
    "parameters={'alpha':[.0001,.001, .01,.1,1,10], 'C':[.01,1,10,100], 'kernel':['linear'],'random_state':list(range(0,10))}\n",
    "ls=Lasso()\n",
    "clf=GridSearchCV(ls,parameters)\n",
    "clf.fit(x_train,y_train)\n",
    "print(clf.best_params_)"
   ]
  },
  {
   "cell_type": "raw",
   "id": "eee1a86a",
   "metadata": {},
   "source": [
    "## Final model training"
   ]
  },
  {
   "cell_type": "code",
   "execution_count": 226,
   "id": "8aafa364",
   "metadata": {},
   "outputs": [
    {
     "data": {
      "text/plain": [
       "75.11290206196489"
      ]
     },
     "execution_count": 226,
     "metadata": {},
     "output_type": "execute_result"
    }
   ],
   "source": [
    "ls=Lasso(alpha=.0001, random_state=0)\n",
    "ls.fit(x_train, y_train)\n",
    "ls_score_training=ls.score(x_train, y_train)\n",
    "pred_ls=ls.predict(x_test)\n",
    "ls_score_training*100"
   ]
  },
  {
   "cell_type": "code",
   "execution_count": 227,
   "id": "fa344e96",
   "metadata": {},
   "outputs": [],
   "source": [
    "pred_ls=ls.predict(x_test)"
   ]
  },
  {
   "cell_type": "code",
   "execution_count": 228,
   "id": "253a0cdb",
   "metadata": {},
   "outputs": [
    {
     "data": {
      "text/plain": [
       "74.67311985677951"
      ]
     },
     "execution_count": 228,
     "metadata": {},
     "output_type": "execute_result"
    }
   ],
   "source": [
    "lss=r2_score(y_test,pred_ls)\n",
    "lss*100"
   ]
  },
  {
   "cell_type": "code",
   "execution_count": 229,
   "id": "e6dcdb1d",
   "metadata": {},
   "outputs": [
    {
     "data": {
      "text/plain": [
       "74.72559481557735"
      ]
     },
     "execution_count": 229,
     "metadata": {},
     "output_type": "execute_result"
    }
   ],
   "source": [
    "cv_score= cross_val_score(ls,x,y,cv=5)\n",
    "cv_mean=cv_score.mean()\n",
    "cv_mean*100"
   ]
  },
  {
   "cell_type": "code",
   "execution_count": null,
   "id": "84b755e9",
   "metadata": {},
   "outputs": [],
   "source": []
  }
 ],
 "metadata": {
  "kernelspec": {
   "display_name": "Python 3 (ipykernel)",
   "language": "python",
   "name": "python3"
  },
  "language_info": {
   "codemirror_mode": {
    "name": "ipython",
    "version": 3
   },
   "file_extension": ".py",
   "mimetype": "text/x-python",
   "name": "python",
   "nbconvert_exporter": "python",
   "pygments_lexer": "ipython3",
   "version": "3.9.12"
  }
 },
 "nbformat": 4,
 "nbformat_minor": 5
}
